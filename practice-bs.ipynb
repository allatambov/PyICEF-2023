{
 "cells": [
  {
   "cell_type": "markdown",
   "metadata": {},
   "source": [
    "# Python для сбора и анализа данных\n",
    "\n",
    "*Алла Тамбовцева, НИУ ВШЭ*\n",
    "\n",
    "## Практикум по сбору информации о курсах валют\n",
    "### Часть 1: выгружаем данные"
   ]
  },
  {
   "cell_type": "markdown",
   "metadata": {},
   "source": [
    "Загружаем необходимые модули и библиотеки:"
   ]
  },
  {
   "cell_type": "code",
   "execution_count": 1,
   "metadata": {},
   "outputs": [],
   "source": [
    "import requests\n",
    "from bs4 import BeautifulSoup"
   ]
  },
  {
   "cell_type": "markdown",
   "metadata": {},
   "source": [
    "Отправляем запрос к странице с курсами валют от РБК (обновляется, результаты могут отличаться в зависимости от времени подключения), забираем исходный код HTML и превращаем его в объект BeautifulSoup:"
   ]
  },
  {
   "cell_type": "code",
   "execution_count": 2,
   "metadata": {},
   "outputs": [],
   "source": [
    "page = requests.get(\"https://cash.rbc.ru/\")\n",
    "soup = BeautifulSoup(page.text)"
   ]
  },
  {
   "cell_type": "markdown",
   "metadata": {},
   "source": [
    "Несмотря на то, что курсы валют в разных банках представлены в табличном виде, настоящей таблицей с тэгом `<table>` этот фрагмент страницы не является. Но это нестрашно, будем искать информацию по разделам с тэгами `<div>`. Найдем все разделы с подходящим классом и сохраним их в список `divs`, это будут «карточки» с информацией о курсе валют в разных банках:"
   ]
  },
  {
   "cell_type": "code",
   "execution_count": 3,
   "metadata": {},
   "outputs": [],
   "source": [
    "divs = soup.find_all(\"div\",\n",
    "                     {\"class\" : \"quote__office__one js-one-office\"})"
   ]
  },
  {
   "cell_type": "markdown",
   "metadata": {},
   "source": [
    "Сначала научимся извлекать информацию на примере одного банка:"
   ]
  },
  {
   "cell_type": "code",
   "execution_count": 4,
   "metadata": {},
   "outputs": [],
   "source": [
    "d = divs[0]"
   ]
  },
  {
   "cell_type": "code",
   "execution_count": 5,
   "metadata": {},
   "outputs": [
    {
     "name": "stdout",
     "output_type": "stream",
     "text": [
      "<div class=\"quote__office__one js-one-office\">\n",
      "<div class=\"quote__office__cell quote__office__one__star\">\n",
      "<div class=\"js-select-favorites\"></div>\n",
      "</div>\n",
      "<div class=\"quote__office__cell\">\n",
      "<a class=\"quote__office__one__name\" href=\"/cash/bank/103153.html\">АКБ АВАНГАРД ДО Монетчиковский</a>\n",
      "<div class=\"quote__office__one__phone\">+7 495 730-02-37</div>\n",
      "</div>\n",
      "<div class=\"quote__office__cell quote__office__one__button_full\">\n",
      "</div>\n",
      "<div class=\"quote__office__cell quote__office__one__rate quote__mode_list_view\">\n",
      "            82.00\n",
      "        </div>\n",
      "<div class=\"quote__office__cell quote__office__one__cash quote__mode_list_view\">\n",
      "            8200.00\n",
      "        </div>\n",
      "<div class=\"quote__office__cell quote__office__one__sell js-filter-pro quote__mode_list_view_pro\">\n",
      "            81.20\n",
      "                <div class=\"quote__office__one__diapason\">от </div>\n",
      "</div>\n",
      "<div class=\"quote__office__cell quote__office__one__buy js-filter-pro quote__mode_list_view_pro\">\n",
      "            82.00\n",
      "                <div class=\"quote__office__one__diapason\">от </div>\n",
      "</div>\n",
      "<div class=\"quote__office__cell quote__office__one__time\">\n",
      "            15:37\n",
      "        </div>\n",
      "<div class=\"quote__office__cell quote__office__one__button\">\n",
      "</div>\n",
      "<div class=\"quote__office__cell quote__office__one__metro\">\n",
      "<i class=\"metro__bg__48\"></i>\n",
      "<span>Павелецкая (Кольцевая)</span>\n",
      "<span class=\"quote__office__metro__distance\">642 м</span>\n",
      "</div>\n",
      "<div class=\"quote__office__cell quote__office__one__phone2\">+7 495 730-02-37</div>\n",
      "</div>\n"
     ]
    }
   ],
   "source": [
    "print(d)"
   ]
  },
  {
   "cell_type": "markdown",
   "metadata": {},
   "source": [
    "Плюс автоматической выгрузки данных: в исходном коде страницы хранится больше информации, чем мы видим непосредственно как пользователи. В выгруженных «карточках» есть не только информация о покупке валюты, которая отображается на сайте по умолчанию, но и курс при продаже, а также ближайшая к банку станция метро с расстоянием до него."
   ]
  },
  {
   "cell_type": "markdown",
   "metadata": {},
   "source": [
    "Найдем ссылку на страницу банка и заберем из нее две части – саму ссылку (`link_href`) и название банка (`link_text`):"
   ]
  },
  {
   "cell_type": "code",
   "execution_count": 6,
   "metadata": {},
   "outputs": [
    {
     "name": "stdout",
     "output_type": "stream",
     "text": [
      "/cash/bank/103153.html АКБ АВАНГАРД ДО Монетчиковский\n"
     ]
    }
   ],
   "source": [
    "link = d.find(\"a\", {\"class\" : \"quote__office__one__name\"})\n",
    "link_href = link.get(\"href\")\n",
    "link_text = link.text\n",
    "print(link_href, link_text)"
   ]
  },
  {
   "cell_type": "markdown",
   "metadata": {},
   "source": [
    "Аналогичным образом извлечем телефон банка, курс валют при покупке и при продаже (попутно избавимся от лишних отступов и слов в курсах валют):"
   ]
  },
  {
   "cell_type": "code",
   "execution_count": 7,
   "metadata": {},
   "outputs": [],
   "source": [
    "phone = d.find(\"div\", {\"class\" : \"quote__office__one__phone\"}).text"
   ]
  },
  {
   "cell_type": "code",
   "execution_count": 8,
   "metadata": {},
   "outputs": [],
   "source": [
    "buy = d.find(\"div\", \n",
    "             {\"class\" : \"quote__office__cell quote__office__one__rate quote__mode_list_view\"}).text\n",
    "buy = buy.strip()\n",
    "\n",
    "sell = d.find(\"div\", \n",
    "              {\"class\" : \"quote__office__cell quote__office__one__sell js-filter-pro quote__mode_list_view_pro\"}).text\n",
    "sell = sell.replace(\"от\", \"\").strip()"
   ]
  },
  {
   "cell_type": "code",
   "execution_count": 9,
   "metadata": {},
   "outputs": [
    {
     "name": "stdout",
     "output_type": "stream",
     "text": [
      "+7 495 730-02-37 82.00 81.20\n"
     ]
    }
   ],
   "source": [
    "print(phone, buy, sell)"
   ]
  },
  {
   "cell_type": "markdown",
   "metadata": {},
   "source": [
    "Пока все значения оставим в виде строк (тип `str`), преобразование типов выполним в самом конце, когда соберем всю информацию и сохраним в датафрейм."
   ]
  },
  {
   "cell_type": "markdown",
   "metadata": {},
   "source": [
    "Теперь найдем ближайшую станцию метро и расстояние до нее (в первом случае тэг `<span>` не имеет атрибута `class`, это его отличительная особенность, поэтому класс будет пустой):"
   ]
  },
  {
   "cell_type": "code",
   "execution_count": 10,
   "metadata": {},
   "outputs": [
    {
     "name": "stdout",
     "output_type": "stream",
     "text": [
      "Павелецкая (Кольцевая) 642 м\n"
     ]
    }
   ],
   "source": [
    "metro = d.find(\"span\", {\"class\" : None}).text\n",
    "distance = d.find(\"span\", \n",
    "                  {\"class\" : \"quote__office__metro__distance\"}).text\n",
    "print(metro, distance)"
   ]
  },
  {
   "cell_type": "markdown",
   "metadata": {},
   "source": [
    "Отлично! Всю информацию по одному банку выгружать мы научились. Напишем функцию, чтобы применить ее потом в цикле ко всем «карточкам» банков в `divs`. Собственно, для написания функции нам достаточно скопировать блоки кода выше и перечислить в `return` итоговые результаты в виде кортежа:"
   ]
  },
  {
   "cell_type": "code",
   "execution_count": 11,
   "metadata": {},
   "outputs": [],
   "source": [
    "def get_bank(d):\n",
    "    link = d.find(\"a\", {\"class\" : \"quote__office__one__name\"})\n",
    "    link_href = link.get(\"href\")\n",
    "    link_text = link.text\n",
    "    phone = d.find(\"div\", {\"class\" : \"quote__office__one__phone\"}).text\n",
    "    buy = d.find(\"div\", \n",
    "                 {\"class\" : \"quote__office__cell quote__office__one__rate quote__mode_list_view\"}).text\n",
    "    buy = buy.strip()\n",
    "    sell = d.find(\"div\", \n",
    "                  {\"class\" : \"quote__office__cell quote__office__one__sell js-filter-pro quote__mode_list_view_pro\"}).text\n",
    "    sell = sell.replace(\"от\", \"\").strip()\n",
    "    \n",
    "    metro = d.find(\"span\", {\"class\" : None}).text\n",
    "    distance = d.find(\"span\", \n",
    "                  {\"class\" : \"quote__office__metro__distance\"}).text\n",
    "    return link_href, link_text, phone, buy, sell, metro, distance"
   ]
  },
  {
   "cell_type": "markdown",
   "metadata": {},
   "source": [
    "Попробуем применить функцию ко всем элементам списка `divs`. Давайте напишем цикл с конструкцией `try-except`, чтобы если что, зафиксировать случаи, когда функция не срабатывает из-за ошибок:"
   ]
  },
  {
   "cell_type": "code",
   "execution_count": 12,
   "metadata": {},
   "outputs": [],
   "source": [
    "banks_info = []\n",
    "errors = []\n",
    "\n",
    "for bank in divs:\n",
    "    try:\n",
    "        res = get_bank(bank)\n",
    "        banks_info.append(res)\n",
    "    except:\n",
    "        errors.append(bank)"
   ]
  },
  {
   "cell_type": "markdown",
   "metadata": {},
   "source": [
    "Проверим, сколько у нас банков и сколько ошибок:"
   ]
  },
  {
   "cell_type": "code",
   "execution_count": 13,
   "metadata": {},
   "outputs": [
    {
     "name": "stdout",
     "output_type": "stream",
     "text": [
      "219 30\n"
     ]
    }
   ],
   "source": [
    "print(len(banks_info), len(errors))"
   ]
  },
  {
   "cell_type": "markdown",
   "metadata": {},
   "source": [
    "Список с фрагментами кода из `divs`, на которых функция не сработала, оказался непустым. Если мы изучим его элементы, окажется, что это те банки, у которых нет метро поблизости (станция и расстояние не указаны). Скорректируем нашу функцию на случай, если информация о метро отсутствует – добавим конструкцию `try-except`:"
   ]
  },
  {
   "cell_type": "code",
   "execution_count": 24,
   "metadata": {},
   "outputs": [],
   "source": [
    "def get_bank(d):\n",
    "    link = d.find(\"a\", {\"class\" : \"quote__office__one__name\"})\n",
    "    link_href = link.get(\"href\")\n",
    "    link_text = link.text\n",
    "    phone = d.find(\"div\", {\"class\" : \"quote__office__one__phone\"}).text\n",
    "    buy = d.find(\"div\", {\"class\" : \"quote__office__cell quote__office__one__rate quote__mode_list_view\"}).text\n",
    "    buy = buy.strip()\n",
    "    sell = d.find(\"div\", {\"class\" : \"quote__office__cell quote__office__one__sell js-filter-pro quote__mode_list_view_pro\"}).text\n",
    "    sell = sell.replace(\"от\", \"\").strip()\n",
    "    try:\n",
    "        metro = d.find(\"span\", {\"class\" : None}).text\n",
    "        distance = d.find(\"span\", \n",
    "                  {\"class\" : \"quote__office__metro__distance\"}).text\n",
    "    except:\n",
    "        metro = \"\"\n",
    "        distance= \"\"\n",
    "    return link_href, link_text, phone, buy, sell, metro, distance"
   ]
  },
  {
   "cell_type": "markdown",
   "metadata": {},
   "source": [
    "Повторяем выгрузку:"
   ]
  },
  {
   "cell_type": "code",
   "execution_count": 25,
   "metadata": {},
   "outputs": [],
   "source": [
    "banks_info = []\n",
    "errors = []\n",
    "\n",
    "for bank in divs:\n",
    "    try:\n",
    "        res = get_bank(bank)\n",
    "        banks_info.append(res)\n",
    "    except:\n",
    "        errors.append(bank)"
   ]
  },
  {
   "cell_type": "code",
   "execution_count": 26,
   "metadata": {},
   "outputs": [
    {
     "name": "stdout",
     "output_type": "stream",
     "text": [
      "249 0\n"
     ]
    }
   ],
   "source": [
    "print(len(banks_info), len(errors))"
   ]
  },
  {
   "cell_type": "markdown",
   "metadata": {},
   "source": [
    "Теперь все отлично! Осталось превратить все в датафрейм `pandas` и преобразовать данные."
   ]
  },
  {
   "cell_type": "markdown",
   "metadata": {},
   "source": [
    "### Часть 2: обрабатываем данные"
   ]
  },
  {
   "cell_type": "markdown",
   "metadata": {},
   "source": [
    "Импортируем библиотеку `pandas`:"
   ]
  },
  {
   "cell_type": "code",
   "execution_count": 27,
   "metadata": {},
   "outputs": [],
   "source": [
    "import pandas as pd"
   ]
  },
  {
   "cell_type": "markdown",
   "metadata": {},
   "source": [
    "Получаем датафрейм из списка кортежей:"
   ]
  },
  {
   "cell_type": "code",
   "execution_count": 28,
   "metadata": {},
   "outputs": [],
   "source": [
    "df = pd.DataFrame(banks_info)"
   ]
  },
  {
   "cell_type": "markdown",
   "metadata": {},
   "source": [
    "Приписываем названия столбцам:"
   ]
  },
  {
   "cell_type": "code",
   "execution_count": 29,
   "metadata": {},
   "outputs": [],
   "source": [
    "df.columns = [\"link\", \"name\", \"phone\", \n",
    "              \"buy\", \"sell\", \"metro\", \"distance\"]"
   ]
  },
  {
   "cell_type": "markdown",
   "metadata": {},
   "source": [
    "Сделаем ссылки на страницы банков абсолютными – доклеим к каждой ссылку на главную страницу. Чтобы избежать циклов, опишем нужное преобразование с помощью анонимной lambda-функции и применим ее ко всем элементам столбца `link` через метод `.apply()`:"
   ]
  },
  {
   "cell_type": "code",
   "execution_count": 30,
   "metadata": {},
   "outputs": [],
   "source": [
    "df[\"link\"] = df[\"link\"].apply(lambda x: \"https://cash.rbc.ru\" + x)"
   ]
  },
  {
   "cell_type": "markdown",
   "metadata": {},
   "source": [
    "Пока все столбцы в датафрейме у нас текстовые – в `pandas` вместо `string` текстовый тип назвается `object`:"
   ]
  },
  {
   "cell_type": "code",
   "execution_count": 31,
   "metadata": {},
   "outputs": [
    {
     "name": "stdout",
     "output_type": "stream",
     "text": [
      "<class 'pandas.core.frame.DataFrame'>\n",
      "RangeIndex: 249 entries, 0 to 248\n",
      "Data columns (total 7 columns):\n",
      " #   Column    Non-Null Count  Dtype \n",
      "---  ------    --------------  ----- \n",
      " 0   link      249 non-null    object\n",
      " 1   name      249 non-null    object\n",
      " 2   phone     249 non-null    object\n",
      " 3   buy       249 non-null    object\n",
      " 4   sell      249 non-null    object\n",
      " 5   metro     249 non-null    object\n",
      " 6   distance  249 non-null    object\n",
      "dtypes: object(7)\n",
      "memory usage: 13.7+ KB\n"
     ]
    }
   ],
   "source": [
    "df.info()"
   ]
  },
  {
   "cell_type": "markdown",
   "metadata": {},
   "source": [
    "Скорректируем типы столбцов с курсами валют – переделаем их на `float`:"
   ]
  },
  {
   "cell_type": "code",
   "execution_count": 32,
   "metadata": {},
   "outputs": [
    {
     "data": {
      "text/html": [
       "<div>\n",
       "<style scoped>\n",
       "    .dataframe tbody tr th:only-of-type {\n",
       "        vertical-align: middle;\n",
       "    }\n",
       "\n",
       "    .dataframe tbody tr th {\n",
       "        vertical-align: top;\n",
       "    }\n",
       "\n",
       "    .dataframe thead th {\n",
       "        text-align: right;\n",
       "    }\n",
       "</style>\n",
       "<table border=\"1\" class=\"dataframe\">\n",
       "  <thead>\n",
       "    <tr style=\"text-align: right;\">\n",
       "      <th></th>\n",
       "      <th>link</th>\n",
       "      <th>name</th>\n",
       "      <th>phone</th>\n",
       "      <th>buy</th>\n",
       "      <th>sell</th>\n",
       "      <th>metro</th>\n",
       "      <th>distance</th>\n",
       "    </tr>\n",
       "  </thead>\n",
       "  <tbody>\n",
       "    <tr>\n",
       "      <th>0</th>\n",
       "      <td>https://cash.rbc.ru/cash/bank/103153.html</td>\n",
       "      <td>АКБ АВАНГАРД ДО Монетчиковский</td>\n",
       "      <td>+7 495 730-02-37</td>\n",
       "      <td>82.00</td>\n",
       "      <td>81.2</td>\n",
       "      <td>Павелецкая (Кольцевая)</td>\n",
       "      <td>642 м</td>\n",
       "    </tr>\n",
       "    <tr>\n",
       "      <th>1</th>\n",
       "      <td>https://cash.rbc.ru/cash/bank/101208.html</td>\n",
       "      <td>КБ ЭНЕРГОТРАНСБАНК</td>\n",
       "      <td>+7 495 627-39-06</td>\n",
       "      <td>81.80</td>\n",
       "      <td>80.7</td>\n",
       "      <td>Китай-город (Калужско-Рижская)</td>\n",
       "      <td>385 м</td>\n",
       "    </tr>\n",
       "    <tr>\n",
       "      <th>2</th>\n",
       "      <td>https://cash.rbc.ru/cash/bank/103085.html</td>\n",
       "      <td>КБ ЮНИСТРИМ ОО № 183</td>\n",
       "      <td>+7 926 331-08-57</td>\n",
       "      <td>82.60</td>\n",
       "      <td>79.3</td>\n",
       "      <td></td>\n",
       "      <td></td>\n",
       "    </tr>\n",
       "    <tr>\n",
       "      <th>3</th>\n",
       "      <td>https://cash.rbc.ru/cash/bank/103270.html</td>\n",
       "      <td>Банк Акцепт</td>\n",
       "      <td>+7 495 725-39-65 доб. 451</td>\n",
       "      <td>82.00</td>\n",
       "      <td>80.5</td>\n",
       "      <td>Парк Победы (Арбатско-Покровская)</td>\n",
       "      <td>175 м</td>\n",
       "    </tr>\n",
       "    <tr>\n",
       "      <th>4</th>\n",
       "      <td>https://cash.rbc.ru/cash/bank/101405.html</td>\n",
       "      <td>ПроБанк ДО Зеленоградский</td>\n",
       "      <td>+7 495 347-47-47 доб. 124</td>\n",
       "      <td>82.00</td>\n",
       "      <td>80.3</td>\n",
       "      <td></td>\n",
       "      <td></td>\n",
       "    </tr>\n",
       "    <tr>\n",
       "      <th>5</th>\n",
       "      <td>https://cash.rbc.ru/cash/bank/103156.html</td>\n",
       "      <td>Сбербанк ДО № 9038/01775</td>\n",
       "      <td>+7 800 555-55-50</td>\n",
       "      <td>83.65</td>\n",
       "      <td>78.6</td>\n",
       "      <td>Площадь Ильича</td>\n",
       "      <td>780 м</td>\n",
       "    </tr>\n",
       "    <tr>\n",
       "      <th>6</th>\n",
       "      <td>https://cash.rbc.ru/cash/bank/103159.html</td>\n",
       "      <td>Сбербанк ДО № 9038/01717</td>\n",
       "      <td>+7 800 555-55-50</td>\n",
       "      <td>83.65</td>\n",
       "      <td>78.6</td>\n",
       "      <td>Ясенево</td>\n",
       "      <td>732 м</td>\n",
       "    </tr>\n",
       "    <tr>\n",
       "      <th>7</th>\n",
       "      <td>https://cash.rbc.ru/cash/bank/103094.html</td>\n",
       "      <td>Банк ФК Открытие Филиал Центральный ДО Улица 1...</td>\n",
       "      <td>+7 800 700-37-10</td>\n",
       "      <td>82.10</td>\n",
       "      <td>79.9</td>\n",
       "      <td>Улица 1905 года</td>\n",
       "      <td>555 м</td>\n",
       "    </tr>\n",
       "    <tr>\n",
       "      <th>8</th>\n",
       "      <td>https://cash.rbc.ru/cash/bank/102928.html</td>\n",
       "      <td>Банк ФК Открытие Филиал Центральный ДО Мичурин...</td>\n",
       "      <td>+7 800 700-37-10</td>\n",
       "      <td>82.10</td>\n",
       "      <td>79.9</td>\n",
       "      <td>Раменки</td>\n",
       "      <td>278 м</td>\n",
       "    </tr>\n",
       "    <tr>\n",
       "      <th>9</th>\n",
       "      <td>https://cash.rbc.ru/cash/bank/103013.html</td>\n",
       "      <td>Банк ФК Открытие Филиал Центральный ДО Новый А...</td>\n",
       "      <td>+7 800 700-37-10</td>\n",
       "      <td>82.10</td>\n",
       "      <td>79.9</td>\n",
       "      <td>Смоленская (Филёвская)</td>\n",
       "      <td>801 м</td>\n",
       "    </tr>\n",
       "  </tbody>\n",
       "</table>\n",
       "</div>"
      ],
      "text/plain": [
       "                                        link  \\\n",
       "0  https://cash.rbc.ru/cash/bank/103153.html   \n",
       "1  https://cash.rbc.ru/cash/bank/101208.html   \n",
       "2  https://cash.rbc.ru/cash/bank/103085.html   \n",
       "3  https://cash.rbc.ru/cash/bank/103270.html   \n",
       "4  https://cash.rbc.ru/cash/bank/101405.html   \n",
       "5  https://cash.rbc.ru/cash/bank/103156.html   \n",
       "6  https://cash.rbc.ru/cash/bank/103159.html   \n",
       "7  https://cash.rbc.ru/cash/bank/103094.html   \n",
       "8  https://cash.rbc.ru/cash/bank/102928.html   \n",
       "9  https://cash.rbc.ru/cash/bank/103013.html   \n",
       "\n",
       "                                                name  \\\n",
       "0                     АКБ АВАНГАРД ДО Монетчиковский   \n",
       "1                                 КБ ЭНЕРГОТРАНСБАНК   \n",
       "2                               КБ ЮНИСТРИМ ОО № 183   \n",
       "3                                        Банк Акцепт   \n",
       "4                          ПроБанк ДО Зеленоградский   \n",
       "5                           Сбербанк ДО № 9038/01775   \n",
       "6                           Сбербанк ДО № 9038/01717   \n",
       "7  Банк ФК Открытие Филиал Центральный ДО Улица 1...   \n",
       "8  Банк ФК Открытие Филиал Центральный ДО Мичурин...   \n",
       "9  Банк ФК Открытие Филиал Центральный ДО Новый А...   \n",
       "\n",
       "                       phone    buy  sell                              metro  \\\n",
       "0           +7 495 730-02-37  82.00  81.2             Павелецкая (Кольцевая)   \n",
       "1           +7 495 627-39-06  81.80  80.7     Китай-город (Калужско-Рижская)   \n",
       "2           +7 926 331-08-57  82.60  79.3                                      \n",
       "3  +7 495 725-39-65 доб. 451  82.00  80.5  Парк Победы (Арбатско-Покровская)   \n",
       "4  +7 495 347-47-47 доб. 124  82.00  80.3                                      \n",
       "5           +7 800 555-55-50  83.65  78.6                     Площадь Ильича   \n",
       "6           +7 800 555-55-50  83.65  78.6                            Ясенево   \n",
       "7           +7 800 700-37-10  82.10  79.9                    Улица 1905 года   \n",
       "8           +7 800 700-37-10  82.10  79.9                            Раменки   \n",
       "9           +7 800 700-37-10  82.10  79.9             Смоленская (Филёвская)   \n",
       "\n",
       "  distance  \n",
       "0    642 м  \n",
       "1    385 м  \n",
       "2           \n",
       "3    175 м  \n",
       "4           \n",
       "5    780 м  \n",
       "6    732 м  \n",
       "7    555 м  \n",
       "8    278 м  \n",
       "9    801 м  "
      ]
     },
     "execution_count": 32,
     "metadata": {},
     "output_type": "execute_result"
    }
   ],
   "source": [
    "df[\"buy\"] = df[\"buy\"].astype(float)\n",
    "df[\"sell\"] = df[\"sell\"].astype(float)\n",
    "df.head(10)"
   ]
  },
  {
   "cell_type": "markdown",
   "metadata": {},
   "source": [
    "Теперь разберемся с расстоянием до метро. "
   ]
  },
  {
   "cell_type": "code",
   "execution_count": 33,
   "metadata": {},
   "outputs": [
    {
     "data": {
      "text/plain": [
       "0       642 м\n",
       "1       385 м\n",
       "2            \n",
       "3       175 м\n",
       "4            \n",
       "        ...  \n",
       "244     189 м\n",
       "245     709 м\n",
       "246     317 м\n",
       "247     118 м\n",
       "248    1.2 км\n",
       "Name: distance, Length: 249, dtype: object"
      ]
     },
     "execution_count": 33,
     "metadata": {},
     "output_type": "execute_result"
    }
   ],
   "source": [
    "df[\"distance\"]"
   ]
  },
  {
   "cell_type": "markdown",
   "metadata": {},
   "source": [
    "Где-то расстояния указаны в метрах, где-то в километрах. Давайте напишем функцию, которая определяет по строке единицы измерения и возвращает расстояния до метро в метрах:"
   ]
  },
  {
   "cell_type": "code",
   "execution_count": 34,
   "metadata": {},
   "outputs": [],
   "source": [
    "def get_dist(x):\n",
    "    if \"км\" in x:\n",
    "        km = float(x.split()[0])\n",
    "        m = km * 1000\n",
    "    elif \"м\" in x:\n",
    "        m = int(x.split()[0])\n",
    "    else:\n",
    "        m = None\n",
    "    return m"
   ]
  },
  {
   "cell_type": "markdown",
   "metadata": {},
   "source": [
    "Применяем эту функцию к столбцу `distance` и создаем новый столбец `distance_m`:"
   ]
  },
  {
   "cell_type": "code",
   "execution_count": 35,
   "metadata": {},
   "outputs": [],
   "source": [
    "df[\"distance_m\"] = df[\"distance\"].apply(get_dist)"
   ]
  },
  {
   "cell_type": "markdown",
   "metadata": {},
   "source": [
    "Уберем старый столбец с расстоянием в текстовом виде. Удалим его с помощью метода `.drop()` и добавим внутри аргумент `inplace=True`, чтобы изменения сохранились в самом датафрейме."
   ]
  },
  {
   "cell_type": "code",
   "execution_count": 36,
   "metadata": {},
   "outputs": [],
   "source": [
    "# inplace = True, чтобы не писать\n",
    "# df = df.drop(columns = [\"distance\"])\n",
    "\n",
    "df.drop(columns = [\"distance\"], inplace = True)"
   ]
  },
  {
   "cell_type": "markdown",
   "metadata": {},
   "source": [
    "Осталось решить небольшую проблему: в названиях станций иногда фигурирует название линии в круглых скобках. Это может затруднять поиск строк датафрейму по названию станции. Давайте разделим эти значения на части — разобьем строки по открывающей скобке: "
   ]
  },
  {
   "cell_type": "code",
   "execution_count": 37,
   "metadata": {},
   "outputs": [
    {
     "data": {
      "text/html": [
       "<div>\n",
       "<style scoped>\n",
       "    .dataframe tbody tr th:only-of-type {\n",
       "        vertical-align: middle;\n",
       "    }\n",
       "\n",
       "    .dataframe tbody tr th {\n",
       "        vertical-align: top;\n",
       "    }\n",
       "\n",
       "    .dataframe thead th {\n",
       "        text-align: right;\n",
       "    }\n",
       "</style>\n",
       "<table border=\"1\" class=\"dataframe\">\n",
       "  <thead>\n",
       "    <tr style=\"text-align: right;\">\n",
       "      <th></th>\n",
       "      <th>0</th>\n",
       "      <th>1</th>\n",
       "    </tr>\n",
       "  </thead>\n",
       "  <tbody>\n",
       "    <tr>\n",
       "      <th>0</th>\n",
       "      <td>Павелецкая</td>\n",
       "      <td>Кольцевая)</td>\n",
       "    </tr>\n",
       "    <tr>\n",
       "      <th>1</th>\n",
       "      <td>Китай-город</td>\n",
       "      <td>Калужско-Рижская)</td>\n",
       "    </tr>\n",
       "    <tr>\n",
       "      <th>2</th>\n",
       "      <td></td>\n",
       "      <td>None</td>\n",
       "    </tr>\n",
       "    <tr>\n",
       "      <th>3</th>\n",
       "      <td>Парк Победы</td>\n",
       "      <td>Арбатско-Покровская)</td>\n",
       "    </tr>\n",
       "    <tr>\n",
       "      <th>4</th>\n",
       "      <td></td>\n",
       "      <td>None</td>\n",
       "    </tr>\n",
       "  </tbody>\n",
       "</table>\n",
       "</div>"
      ],
      "text/plain": [
       "              0                     1\n",
       "0   Павелецкая             Кольцевая)\n",
       "1  Китай-город      Калужско-Рижская)\n",
       "2                                None\n",
       "3  Парк Победы   Арбатско-Покровская)\n",
       "4                                None"
      ]
     },
     "execution_count": 37,
     "metadata": {},
     "output_type": "execute_result"
    }
   ],
   "source": [
    "small = df[\"metro\"].str.split(\"(\", expand = True)\n",
    "small.head()"
   ]
  },
  {
   "cell_type": "markdown",
   "metadata": {},
   "source": [
    "Выше мы использовали метод `.split()` из коллекции методов для строк `str` внутри `pandas` и добавили аргумент `expand = True`, чтобы результат разбиения «растянулся» на разные столбцы. Без этого аргумента мы получим один столбец, где в ячейках сохранены списки с частями строки:"
   ]
  },
  {
   "cell_type": "code",
   "execution_count": 38,
   "metadata": {},
   "outputs": [
    {
     "data": {
      "text/plain": [
       "0                 [Павелецкая , Кольцевая)]\n",
       "1         [Китай-город , Калужско-Рижская)]\n",
       "2                                        []\n",
       "3      [Парк Победы , Арбатско-Покровская)]\n",
       "4                                        []\n",
       "                       ...                 \n",
       "244                                [Перово]\n",
       "245                        [Красные ворота]\n",
       "246                           [Фрунзенская]\n",
       "247              [Бульвар Дмитрия Донского]\n",
       "248                        [Красные ворота]\n",
       "Name: metro, Length: 249, dtype: object"
      ]
     },
     "execution_count": 38,
     "metadata": {},
     "output_type": "execute_result"
    }
   ],
   "source": [
    "df[\"metro\"].str.split(\"(\")"
   ]
  },
  {
   "cell_type": "markdown",
   "metadata": {},
   "source": [
    "Присвоим столбцам в полученном маленьком датафрейме названия:"
   ]
  },
  {
   "cell_type": "code",
   "execution_count": 39,
   "metadata": {},
   "outputs": [],
   "source": [
    "small.columns = [\"station\", \"line\"]"
   ]
  },
  {
   "cell_type": "markdown",
   "metadata": {},
   "source": [
    "Теперь осталось убрать в столбце `line` лишнюю закрывающую скобку. Мы можем сделать это, как и ранее, через lambda-функцию, но здесь нужно учесть один нюанс: в этом столбце есть ячейки с пустым типом `None`. Включим в lambda-функцию условие с `if-else`:"
   ]
  },
  {
   "cell_type": "code",
   "execution_count": 40,
   "metadata": {},
   "outputs": [],
   "source": [
    "# возвращай строку x с заменой, если не None\n",
    "# иначе возвращай исходное значение x (None)\n",
    "\n",
    "small[\"line\"] = small[\"line\"].apply(lambda x: \n",
    "                                    x.replace(\")\", \"\") if x is not None else x)"
   ]
  },
  {
   "cell_type": "code",
   "execution_count": 41,
   "metadata": {},
   "outputs": [
    {
     "data": {
      "text/html": [
       "<div>\n",
       "<style scoped>\n",
       "    .dataframe tbody tr th:only-of-type {\n",
       "        vertical-align: middle;\n",
       "    }\n",
       "\n",
       "    .dataframe tbody tr th {\n",
       "        vertical-align: top;\n",
       "    }\n",
       "\n",
       "    .dataframe thead th {\n",
       "        text-align: right;\n",
       "    }\n",
       "</style>\n",
       "<table border=\"1\" class=\"dataframe\">\n",
       "  <thead>\n",
       "    <tr style=\"text-align: right;\">\n",
       "      <th></th>\n",
       "      <th>station</th>\n",
       "      <th>line</th>\n",
       "    </tr>\n",
       "  </thead>\n",
       "  <tbody>\n",
       "    <tr>\n",
       "      <th>0</th>\n",
       "      <td>Павелецкая</td>\n",
       "      <td>Кольцевая</td>\n",
       "    </tr>\n",
       "    <tr>\n",
       "      <th>1</th>\n",
       "      <td>Китай-город</td>\n",
       "      <td>Калужско-Рижская</td>\n",
       "    </tr>\n",
       "    <tr>\n",
       "      <th>2</th>\n",
       "      <td></td>\n",
       "      <td>None</td>\n",
       "    </tr>\n",
       "    <tr>\n",
       "      <th>3</th>\n",
       "      <td>Парк Победы</td>\n",
       "      <td>Арбатско-Покровская</td>\n",
       "    </tr>\n",
       "    <tr>\n",
       "      <th>4</th>\n",
       "      <td></td>\n",
       "      <td>None</td>\n",
       "    </tr>\n",
       "  </tbody>\n",
       "</table>\n",
       "</div>"
      ],
      "text/plain": [
       "        station                 line\n",
       "0   Павелецкая             Кольцевая\n",
       "1  Китай-город      Калужско-Рижская\n",
       "2                               None\n",
       "3  Парк Победы   Арбатско-Покровская\n",
       "4                               None"
      ]
     },
     "execution_count": 41,
     "metadata": {},
     "output_type": "execute_result"
    }
   ],
   "source": [
    "small.head()"
   ]
  },
  {
   "cell_type": "markdown",
   "metadata": {},
   "source": [
    "Осталось склеить наш исходный датафрейм `df` с только что полученным датафреймом `small`. Воспользуемся функцией `concat()`, которая склеивает датафреймы, поданные на вход в виде списка:"
   ]
  },
  {
   "cell_type": "code",
   "execution_count": 42,
   "metadata": {},
   "outputs": [],
   "source": [
    "# axis = 0: по умолчанию склеивает по строкам,\n",
    "# второй датафрейм дописывается под первым\n",
    "# axis = 1: склеивает по столбцам,\n",
    "# второй датафрейм дописывается справа от первого\n",
    "\n",
    "final = pd.concat([df, small], axis = 1)"
   ]
  },
  {
   "cell_type": "markdown",
   "metadata": {},
   "source": [
    "Удалим старый столбец со станцией метро, он нам уже не нужен:"
   ]
  },
  {
   "cell_type": "code",
   "execution_count": 43,
   "metadata": {},
   "outputs": [],
   "source": [
    "final.drop(columns = [\"metro\"], inplace = True)"
   ]
  },
  {
   "cell_type": "markdown",
   "metadata": {},
   "source": [
    "Всё! Посмотрим на датафрейм:"
   ]
  },
  {
   "cell_type": "code",
   "execution_count": 44,
   "metadata": {},
   "outputs": [
    {
     "data": {
      "text/html": [
       "<div>\n",
       "<style scoped>\n",
       "    .dataframe tbody tr th:only-of-type {\n",
       "        vertical-align: middle;\n",
       "    }\n",
       "\n",
       "    .dataframe tbody tr th {\n",
       "        vertical-align: top;\n",
       "    }\n",
       "\n",
       "    .dataframe thead th {\n",
       "        text-align: right;\n",
       "    }\n",
       "</style>\n",
       "<table border=\"1\" class=\"dataframe\">\n",
       "  <thead>\n",
       "    <tr style=\"text-align: right;\">\n",
       "      <th></th>\n",
       "      <th>link</th>\n",
       "      <th>name</th>\n",
       "      <th>phone</th>\n",
       "      <th>buy</th>\n",
       "      <th>sell</th>\n",
       "      <th>distance_m</th>\n",
       "      <th>station</th>\n",
       "      <th>line</th>\n",
       "    </tr>\n",
       "  </thead>\n",
       "  <tbody>\n",
       "    <tr>\n",
       "      <th>0</th>\n",
       "      <td>https://cash.rbc.ru/cash/bank/103153.html</td>\n",
       "      <td>АКБ АВАНГАРД ДО Монетчиковский</td>\n",
       "      <td>+7 495 730-02-37</td>\n",
       "      <td>82.0</td>\n",
       "      <td>81.2</td>\n",
       "      <td>642.0</td>\n",
       "      <td>Павелецкая</td>\n",
       "      <td>Кольцевая</td>\n",
       "    </tr>\n",
       "    <tr>\n",
       "      <th>1</th>\n",
       "      <td>https://cash.rbc.ru/cash/bank/101208.html</td>\n",
       "      <td>КБ ЭНЕРГОТРАНСБАНК</td>\n",
       "      <td>+7 495 627-39-06</td>\n",
       "      <td>81.8</td>\n",
       "      <td>80.7</td>\n",
       "      <td>385.0</td>\n",
       "      <td>Китай-город</td>\n",
       "      <td>Калужско-Рижская</td>\n",
       "    </tr>\n",
       "    <tr>\n",
       "      <th>2</th>\n",
       "      <td>https://cash.rbc.ru/cash/bank/103085.html</td>\n",
       "      <td>КБ ЮНИСТРИМ ОО № 183</td>\n",
       "      <td>+7 926 331-08-57</td>\n",
       "      <td>82.6</td>\n",
       "      <td>79.3</td>\n",
       "      <td>NaN</td>\n",
       "      <td></td>\n",
       "      <td>None</td>\n",
       "    </tr>\n",
       "    <tr>\n",
       "      <th>3</th>\n",
       "      <td>https://cash.rbc.ru/cash/bank/103270.html</td>\n",
       "      <td>Банк Акцепт</td>\n",
       "      <td>+7 495 725-39-65 доб. 451</td>\n",
       "      <td>82.0</td>\n",
       "      <td>80.5</td>\n",
       "      <td>175.0</td>\n",
       "      <td>Парк Победы</td>\n",
       "      <td>Арбатско-Покровская</td>\n",
       "    </tr>\n",
       "    <tr>\n",
       "      <th>4</th>\n",
       "      <td>https://cash.rbc.ru/cash/bank/101405.html</td>\n",
       "      <td>ПроБанк ДО Зеленоградский</td>\n",
       "      <td>+7 495 347-47-47 доб. 124</td>\n",
       "      <td>82.0</td>\n",
       "      <td>80.3</td>\n",
       "      <td>NaN</td>\n",
       "      <td></td>\n",
       "      <td>None</td>\n",
       "    </tr>\n",
       "  </tbody>\n",
       "</table>\n",
       "</div>"
      ],
      "text/plain": [
       "                                        link                            name  \\\n",
       "0  https://cash.rbc.ru/cash/bank/103153.html  АКБ АВАНГАРД ДО Монетчиковский   \n",
       "1  https://cash.rbc.ru/cash/bank/101208.html              КБ ЭНЕРГОТРАНСБАНК   \n",
       "2  https://cash.rbc.ru/cash/bank/103085.html            КБ ЮНИСТРИМ ОО № 183   \n",
       "3  https://cash.rbc.ru/cash/bank/103270.html                     Банк Акцепт   \n",
       "4  https://cash.rbc.ru/cash/bank/101405.html       ПроБанк ДО Зеленоградский   \n",
       "\n",
       "                       phone   buy  sell  distance_m       station  \\\n",
       "0           +7 495 730-02-37  82.0  81.2       642.0   Павелецкая    \n",
       "1           +7 495 627-39-06  81.8  80.7       385.0  Китай-город    \n",
       "2           +7 926 331-08-57  82.6  79.3         NaN                 \n",
       "3  +7 495 725-39-65 доб. 451  82.0  80.5       175.0  Парк Победы    \n",
       "4  +7 495 347-47-47 доб. 124  82.0  80.3         NaN                 \n",
       "\n",
       "                  line  \n",
       "0            Кольцевая  \n",
       "1     Калужско-Рижская  \n",
       "2                 None  \n",
       "3  Арбатско-Покровская  \n",
       "4                 None  "
      ]
     },
     "execution_count": 44,
     "metadata": {},
     "output_type": "execute_result"
    }
   ],
   "source": [
    "final.head()"
   ]
  },
  {
   "cell_type": "markdown",
   "metadata": {},
   "source": [
    "В завершение добавим хоть какое-нибудь взаимодействие с пользователем. Допустим, пользователь вводит с клавиатуры через запятую и пробел станции метро, которые его интересуют:"
   ]
  },
  {
   "cell_type": "code",
   "execution_count": 45,
   "metadata": {},
   "outputs": [
    {
     "name": "stdout",
     "output_type": "stream",
     "text": [
      "Каховская, Марксистская\n"
     ]
    }
   ],
   "source": [
    "metro = input()"
   ]
  },
  {
   "cell_type": "markdown",
   "metadata": {},
   "source": [
    "Преобразуем ввод в список `stations`:"
   ]
  },
  {
   "cell_type": "code",
   "execution_count": 46,
   "metadata": {},
   "outputs": [
    {
     "data": {
      "text/plain": [
       "['Каховская', 'Марксистская']"
      ]
     },
     "execution_count": 46,
     "metadata": {},
     "output_type": "execute_result"
    }
   ],
   "source": [
    "stations = metro.split(\", \")\n",
    "stations"
   ]
  },
  {
   "cell_type": "markdown",
   "metadata": {},
   "source": [
    "Выберем из датафрейма строки, где значения в столбце `station` входят в полученный список. Сделаем это универсальным образом – через метод `.isin()`, который проверяет вхождение значений в ячейках в некоторую последовательность:"
   ]
  },
  {
   "cell_type": "code",
   "execution_count": 47,
   "metadata": {},
   "outputs": [
    {
     "data": {
      "text/html": [
       "<div>\n",
       "<style scoped>\n",
       "    .dataframe tbody tr th:only-of-type {\n",
       "        vertical-align: middle;\n",
       "    }\n",
       "\n",
       "    .dataframe tbody tr th {\n",
       "        vertical-align: top;\n",
       "    }\n",
       "\n",
       "    .dataframe thead th {\n",
       "        text-align: right;\n",
       "    }\n",
       "</style>\n",
       "<table border=\"1\" class=\"dataframe\">\n",
       "  <thead>\n",
       "    <tr style=\"text-align: right;\">\n",
       "      <th></th>\n",
       "      <th>link</th>\n",
       "      <th>name</th>\n",
       "      <th>phone</th>\n",
       "      <th>buy</th>\n",
       "      <th>sell</th>\n",
       "      <th>distance_m</th>\n",
       "      <th>station</th>\n",
       "      <th>line</th>\n",
       "    </tr>\n",
       "  </thead>\n",
       "  <tbody>\n",
       "    <tr>\n",
       "      <th>40</th>\n",
       "      <td>https://cash.rbc.ru/cash/bank/103203.html</td>\n",
       "      <td>АКБ Трансстройбанк ДО Таганская</td>\n",
       "      <td>+7 495 786-37-74</td>\n",
       "      <td>81.90</td>\n",
       "      <td>81.00</td>\n",
       "      <td>62.0</td>\n",
       "      <td>Марксистская</td>\n",
       "      <td>None</td>\n",
       "    </tr>\n",
       "    <tr>\n",
       "      <th>72</th>\n",
       "      <td>https://cash.rbc.ru/cash/bank/102856.html</td>\n",
       "      <td>Россельхозбанк ул. Марксистская</td>\n",
       "      <td>+7 495 644-02-38</td>\n",
       "      <td>81.85</td>\n",
       "      <td>77.10</td>\n",
       "      <td>163.0</td>\n",
       "      <td>Марксистская</td>\n",
       "      <td>None</td>\n",
       "    </tr>\n",
       "    <tr>\n",
       "      <th>99</th>\n",
       "      <td>https://cash.rbc.ru/cash/bank/103284.html</td>\n",
       "      <td>РОСБАНК ДО Таганский</td>\n",
       "      <td>+7 800 234-44-34</td>\n",
       "      <td>84.70</td>\n",
       "      <td>78.20</td>\n",
       "      <td>695.0</td>\n",
       "      <td>Марксистская</td>\n",
       "      <td>None</td>\n",
       "    </tr>\n",
       "    <tr>\n",
       "      <th>123</th>\n",
       "      <td>https://cash.rbc.ru/cash/bank/100523.html</td>\n",
       "      <td>Реалист Банк бывший БайкалИнвестБанк</td>\n",
       "      <td>+7 499 968-94-24</td>\n",
       "      <td>81.68</td>\n",
       "      <td>80.90</td>\n",
       "      <td>484.0</td>\n",
       "      <td>Марксистская</td>\n",
       "      <td>None</td>\n",
       "    </tr>\n",
       "    <tr>\n",
       "      <th>154</th>\n",
       "      <td>https://cash.rbc.ru/cash/bank/100946.html</td>\n",
       "      <td>Джей энд Ти Банк ДО Таганский</td>\n",
       "      <td>+7 495 662-45-45 доб. 750</td>\n",
       "      <td>81.70</td>\n",
       "      <td>80.70</td>\n",
       "      <td>450.0</td>\n",
       "      <td>Марксистская</td>\n",
       "      <td>None</td>\n",
       "    </tr>\n",
       "    <tr>\n",
       "      <th>189</th>\n",
       "      <td>https://cash.rbc.ru/cash/bank/102972.html</td>\n",
       "      <td>Газпромбанк ДО 099/1069</td>\n",
       "      <td>+7 800 707-70-37</td>\n",
       "      <td>83.84</td>\n",
       "      <td>79.71</td>\n",
       "      <td>163.0</td>\n",
       "      <td>Марксистская</td>\n",
       "      <td>None</td>\n",
       "    </tr>\n",
       "    <tr>\n",
       "      <th>204</th>\n",
       "      <td>https://cash.rbc.ru/cash/bank/61525.html</td>\n",
       "      <td>НС Банк ДО На Азовской</td>\n",
       "      <td>+7 800 555-43-24</td>\n",
       "      <td>82.62</td>\n",
       "      <td>79.12</td>\n",
       "      <td>282.0</td>\n",
       "      <td>Каховская</td>\n",
       "      <td>None</td>\n",
       "    </tr>\n",
       "    <tr>\n",
       "      <th>212</th>\n",
       "      <td>https://cash.rbc.ru/cash/bank/102906.html</td>\n",
       "      <td>КБ ЛОКО-Банк ДО Таганский</td>\n",
       "      <td>+7 495 739-55-55</td>\n",
       "      <td>82.40</td>\n",
       "      <td>79.60</td>\n",
       "      <td>163.0</td>\n",
       "      <td>Марксистская</td>\n",
       "      <td>None</td>\n",
       "    </tr>\n",
       "    <tr>\n",
       "      <th>217</th>\n",
       "      <td>https://cash.rbc.ru/cash/bank/61297.html</td>\n",
       "      <td>НС Банк ул. Добровольческая</td>\n",
       "      <td>+7 800 555-43-24</td>\n",
       "      <td>82.62</td>\n",
       "      <td>79.12</td>\n",
       "      <td>807.0</td>\n",
       "      <td>Марксистская</td>\n",
       "      <td>None</td>\n",
       "    </tr>\n",
       "  </tbody>\n",
       "</table>\n",
       "</div>"
      ],
      "text/plain": [
       "                                          link  \\\n",
       "40   https://cash.rbc.ru/cash/bank/103203.html   \n",
       "72   https://cash.rbc.ru/cash/bank/102856.html   \n",
       "99   https://cash.rbc.ru/cash/bank/103284.html   \n",
       "123  https://cash.rbc.ru/cash/bank/100523.html   \n",
       "154  https://cash.rbc.ru/cash/bank/100946.html   \n",
       "189  https://cash.rbc.ru/cash/bank/102972.html   \n",
       "204   https://cash.rbc.ru/cash/bank/61525.html   \n",
       "212  https://cash.rbc.ru/cash/bank/102906.html   \n",
       "217   https://cash.rbc.ru/cash/bank/61297.html   \n",
       "\n",
       "                                     name                      phone    buy  \\\n",
       "40        АКБ Трансстройбанк ДО Таганская           +7 495 786-37-74  81.90   \n",
       "72        Россельхозбанк ул. Марксистская           +7 495 644-02-38  81.85   \n",
       "99                   РОСБАНК ДО Таганский           +7 800 234-44-34  84.70   \n",
       "123  Реалист Банк бывший БайкалИнвестБанк           +7 499 968-94-24  81.68   \n",
       "154         Джей энд Ти Банк ДО Таганский  +7 495 662-45-45 доб. 750  81.70   \n",
       "189               Газпромбанк ДО 099/1069           +7 800 707-70-37  83.84   \n",
       "204                НС Банк ДО На Азовской           +7 800 555-43-24  82.62   \n",
       "212             КБ ЛОКО-Банк ДО Таганский           +7 495 739-55-55  82.40   \n",
       "217           НС Банк ул. Добровольческая           +7 800 555-43-24  82.62   \n",
       "\n",
       "      sell  distance_m       station  line  \n",
       "40   81.00        62.0  Марксистская  None  \n",
       "72   77.10       163.0  Марксистская  None  \n",
       "99   78.20       695.0  Марксистская  None  \n",
       "123  80.90       484.0  Марксистская  None  \n",
       "154  80.70       450.0  Марксистская  None  \n",
       "189  79.71       163.0  Марксистская  None  \n",
       "204  79.12       282.0     Каховская  None  \n",
       "212  79.60       163.0  Марксистская  None  \n",
       "217  79.12       807.0  Марксистская  None  "
      ]
     },
     "execution_count": 47,
     "metadata": {},
     "output_type": "execute_result"
    }
   ],
   "source": [
    "final[final[\"station\"].isin(stations)]"
   ]
  },
  {
   "cell_type": "markdown",
   "metadata": {},
   "source": [
    "Работает! Стоит отметить, что фильтрация в `pandas` устроена следующим образом: условие в квадратных скобках возвращает последовательность из `True` и `False` (результат проверки условия для каждой ячейки в столбце), а затем из датафрейма отбираются строки, на которых было возвращено значение `True`:"
   ]
  },
  {
   "cell_type": "code",
   "execution_count": 48,
   "metadata": {},
   "outputs": [
    {
     "data": {
      "text/plain": [
       "0      False\n",
       "1      False\n",
       "2      False\n",
       "3      False\n",
       "4      False\n",
       "       ...  \n",
       "244    False\n",
       "245    False\n",
       "246    False\n",
       "247    False\n",
       "248    False\n",
       "Name: station, Length: 249, dtype: bool"
      ]
     },
     "execution_count": 48,
     "metadata": {},
     "output_type": "execute_result"
    }
   ],
   "source": [
    "final[\"station\"].isin(stations)"
   ]
  },
  {
   "cell_type": "markdown",
   "metadata": {},
   "source": [
    "Для примера посмотрим на фильтрацию по числовым значениям. Выберем строки, которые соответствуют банкам рядом с введенными станциями и с расстоянием до метро менее 200 метров:"
   ]
  },
  {
   "cell_type": "code",
   "execution_count": 50,
   "metadata": {},
   "outputs": [
    {
     "data": {
      "text/html": [
       "<div>\n",
       "<style scoped>\n",
       "    .dataframe tbody tr th:only-of-type {\n",
       "        vertical-align: middle;\n",
       "    }\n",
       "\n",
       "    .dataframe tbody tr th {\n",
       "        vertical-align: top;\n",
       "    }\n",
       "\n",
       "    .dataframe thead th {\n",
       "        text-align: right;\n",
       "    }\n",
       "</style>\n",
       "<table border=\"1\" class=\"dataframe\">\n",
       "  <thead>\n",
       "    <tr style=\"text-align: right;\">\n",
       "      <th></th>\n",
       "      <th>link</th>\n",
       "      <th>name</th>\n",
       "      <th>phone</th>\n",
       "      <th>buy</th>\n",
       "      <th>sell</th>\n",
       "      <th>distance_m</th>\n",
       "      <th>station</th>\n",
       "      <th>line</th>\n",
       "    </tr>\n",
       "  </thead>\n",
       "  <tbody>\n",
       "    <tr>\n",
       "      <th>40</th>\n",
       "      <td>https://cash.rbc.ru/cash/bank/103203.html</td>\n",
       "      <td>АКБ Трансстройбанк ДО Таганская</td>\n",
       "      <td>+7 495 786-37-74</td>\n",
       "      <td>81.90</td>\n",
       "      <td>81.00</td>\n",
       "      <td>62.0</td>\n",
       "      <td>Марксистская</td>\n",
       "      <td>None</td>\n",
       "    </tr>\n",
       "    <tr>\n",
       "      <th>72</th>\n",
       "      <td>https://cash.rbc.ru/cash/bank/102856.html</td>\n",
       "      <td>Россельхозбанк ул. Марксистская</td>\n",
       "      <td>+7 495 644-02-38</td>\n",
       "      <td>81.85</td>\n",
       "      <td>77.10</td>\n",
       "      <td>163.0</td>\n",
       "      <td>Марксистская</td>\n",
       "      <td>None</td>\n",
       "    </tr>\n",
       "    <tr>\n",
       "      <th>189</th>\n",
       "      <td>https://cash.rbc.ru/cash/bank/102972.html</td>\n",
       "      <td>Газпромбанк ДО 099/1069</td>\n",
       "      <td>+7 800 707-70-37</td>\n",
       "      <td>83.84</td>\n",
       "      <td>79.71</td>\n",
       "      <td>163.0</td>\n",
       "      <td>Марксистская</td>\n",
       "      <td>None</td>\n",
       "    </tr>\n",
       "    <tr>\n",
       "      <th>212</th>\n",
       "      <td>https://cash.rbc.ru/cash/bank/102906.html</td>\n",
       "      <td>КБ ЛОКО-Банк ДО Таганский</td>\n",
       "      <td>+7 495 739-55-55</td>\n",
       "      <td>82.40</td>\n",
       "      <td>79.60</td>\n",
       "      <td>163.0</td>\n",
       "      <td>Марксистская</td>\n",
       "      <td>None</td>\n",
       "    </tr>\n",
       "  </tbody>\n",
       "</table>\n",
       "</div>"
      ],
      "text/plain": [
       "                                          link  \\\n",
       "40   https://cash.rbc.ru/cash/bank/103203.html   \n",
       "72   https://cash.rbc.ru/cash/bank/102856.html   \n",
       "189  https://cash.rbc.ru/cash/bank/102972.html   \n",
       "212  https://cash.rbc.ru/cash/bank/102906.html   \n",
       "\n",
       "                                name             phone    buy   sell  \\\n",
       "40   АКБ Трансстройбанк ДО Таганская  +7 495 786-37-74  81.90  81.00   \n",
       "72   Россельхозбанк ул. Марксистская  +7 495 644-02-38  81.85  77.10   \n",
       "189          Газпромбанк ДО 099/1069  +7 800 707-70-37  83.84  79.71   \n",
       "212        КБ ЛОКО-Банк ДО Таганский  +7 495 739-55-55  82.40  79.60   \n",
       "\n",
       "     distance_m       station  line  \n",
       "40         62.0  Марксистская  None  \n",
       "72        163.0  Марксистская  None  \n",
       "189       163.0  Марксистская  None  \n",
       "212       163.0  Марксистская  None  "
      ]
     },
     "execution_count": 50,
     "metadata": {},
     "output_type": "execute_result"
    }
   ],
   "source": [
    "final[(final[\"station\"].isin(stations)) & (final[\"distance_m\"] < 200)]"
   ]
  },
  {
   "cell_type": "markdown",
   "metadata": {},
   "source": [
    "Оператор `&` соответствует логическому И. Если бы нам нужно было логическое ИЛИ (хотя бы одно из условий верно), пригодился бы оператор `|`:"
   ]
  },
  {
   "cell_type": "code",
   "execution_count": 52,
   "metadata": {},
   "outputs": [
    {
     "data": {
      "text/html": [
       "<div>\n",
       "<style scoped>\n",
       "    .dataframe tbody tr th:only-of-type {\n",
       "        vertical-align: middle;\n",
       "    }\n",
       "\n",
       "    .dataframe tbody tr th {\n",
       "        vertical-align: top;\n",
       "    }\n",
       "\n",
       "    .dataframe thead th {\n",
       "        text-align: right;\n",
       "    }\n",
       "</style>\n",
       "<table border=\"1\" class=\"dataframe\">\n",
       "  <thead>\n",
       "    <tr style=\"text-align: right;\">\n",
       "      <th></th>\n",
       "      <th>link</th>\n",
       "      <th>name</th>\n",
       "      <th>phone</th>\n",
       "      <th>buy</th>\n",
       "      <th>sell</th>\n",
       "      <th>distance_m</th>\n",
       "      <th>station</th>\n",
       "      <th>line</th>\n",
       "    </tr>\n",
       "  </thead>\n",
       "  <tbody>\n",
       "    <tr>\n",
       "      <th>17</th>\n",
       "      <td>https://cash.rbc.ru/cash/bank/102407.html</td>\n",
       "      <td>АКБ Трансстройбанк ОКВКУ Электрозаводская</td>\n",
       "      <td>+7 495 786-37-73 доб. 566</td>\n",
       "      <td>82.20</td>\n",
       "      <td>80.30</td>\n",
       "      <td>73.0</td>\n",
       "      <td>Электрозаводская</td>\n",
       "      <td>Арбатско-Покровская</td>\n",
       "    </tr>\n",
       "    <tr>\n",
       "      <th>22</th>\n",
       "      <td>https://cash.rbc.ru/cash/bank/103126.html</td>\n",
       "      <td>Сбербанк ДО № 9038/01654</td>\n",
       "      <td>+7 800 555-55-50</td>\n",
       "      <td>83.65</td>\n",
       "      <td>78.60</td>\n",
       "      <td>44.0</td>\n",
       "      <td>Деловой центр</td>\n",
       "      <td>Большая кольцевая</td>\n",
       "    </tr>\n",
       "    <tr>\n",
       "      <th>29</th>\n",
       "      <td>https://cash.rbc.ru/cash/bank/101865.html</td>\n",
       "      <td>Банк ФК Открытие Филиал Центральный ДО Коньково</td>\n",
       "      <td>+7 800 700-37-10</td>\n",
       "      <td>82.10</td>\n",
       "      <td>79.90</td>\n",
       "      <td>76.0</td>\n",
       "      <td>Коньково</td>\n",
       "      <td>None</td>\n",
       "    </tr>\n",
       "    <tr>\n",
       "      <th>39</th>\n",
       "      <td>https://cash.rbc.ru/cash/bank/102939.html</td>\n",
       "      <td>АКБ Трансстройбанк ДО Семеновский</td>\n",
       "      <td>+7 495 786-37-74</td>\n",
       "      <td>82.30</td>\n",
       "      <td>80.50</td>\n",
       "      <td>62.0</td>\n",
       "      <td>Семёновская</td>\n",
       "      <td>None</td>\n",
       "    </tr>\n",
       "    <tr>\n",
       "      <th>40</th>\n",
       "      <td>https://cash.rbc.ru/cash/bank/103203.html</td>\n",
       "      <td>АКБ Трансстройбанк ДО Таганская</td>\n",
       "      <td>+7 495 786-37-74</td>\n",
       "      <td>81.90</td>\n",
       "      <td>81.00</td>\n",
       "      <td>62.0</td>\n",
       "      <td>Марксистская</td>\n",
       "      <td>None</td>\n",
       "    </tr>\n",
       "    <tr>\n",
       "      <th>70</th>\n",
       "      <td>https://cash.rbc.ru/cash/bank/102331.html</td>\n",
       "      <td>АКБ Трансстройбанк ОО Парковый</td>\n",
       "      <td>+7 495 786-37-73 доб. 542</td>\n",
       "      <td>82.00</td>\n",
       "      <td>80.00</td>\n",
       "      <td>80.0</td>\n",
       "      <td>Первомайская</td>\n",
       "      <td>None</td>\n",
       "    </tr>\n",
       "    <tr>\n",
       "      <th>72</th>\n",
       "      <td>https://cash.rbc.ru/cash/bank/102856.html</td>\n",
       "      <td>Россельхозбанк ул. Марксистская</td>\n",
       "      <td>+7 495 644-02-38</td>\n",
       "      <td>81.85</td>\n",
       "      <td>77.10</td>\n",
       "      <td>163.0</td>\n",
       "      <td>Марксистская</td>\n",
       "      <td>None</td>\n",
       "    </tr>\n",
       "    <tr>\n",
       "      <th>73</th>\n",
       "      <td>https://cash.rbc.ru/cash/bank/102857.html</td>\n",
       "      <td>Россельхозбанк ул. Митинская</td>\n",
       "      <td>+7 495 644-02-38</td>\n",
       "      <td>83.15</td>\n",
       "      <td>77.10</td>\n",
       "      <td>88.0</td>\n",
       "      <td>Митино</td>\n",
       "      <td>None</td>\n",
       "    </tr>\n",
       "    <tr>\n",
       "      <th>89</th>\n",
       "      <td>https://cash.rbc.ru/cash/bank/103182.html</td>\n",
       "      <td>КБ ЮНИСТРИМ ОО № 198</td>\n",
       "      <td>+7 925 586-13-68</td>\n",
       "      <td>83.00</td>\n",
       "      <td>79.00</td>\n",
       "      <td>99.0</td>\n",
       "      <td>Речной вокзал</td>\n",
       "      <td>None</td>\n",
       "    </tr>\n",
       "    <tr>\n",
       "      <th>99</th>\n",
       "      <td>https://cash.rbc.ru/cash/bank/103284.html</td>\n",
       "      <td>РОСБАНК ДО Таганский</td>\n",
       "      <td>+7 800 234-44-34</td>\n",
       "      <td>84.70</td>\n",
       "      <td>78.20</td>\n",
       "      <td>695.0</td>\n",
       "      <td>Марксистская</td>\n",
       "      <td>None</td>\n",
       "    </tr>\n",
       "    <tr>\n",
       "      <th>110</th>\n",
       "      <td>https://cash.rbc.ru/cash/bank/103183.html</td>\n",
       "      <td>КБ ЮНИСТРИМ ОО № 12</td>\n",
       "      <td>+7 925 586-13-68</td>\n",
       "      <td>83.00</td>\n",
       "      <td>79.00</td>\n",
       "      <td>94.0</td>\n",
       "      <td>Достоевская</td>\n",
       "      <td>None</td>\n",
       "    </tr>\n",
       "    <tr>\n",
       "      <th>123</th>\n",
       "      <td>https://cash.rbc.ru/cash/bank/100523.html</td>\n",
       "      <td>Реалист Банк бывший БайкалИнвестБанк</td>\n",
       "      <td>+7 499 968-94-24</td>\n",
       "      <td>81.68</td>\n",
       "      <td>80.90</td>\n",
       "      <td>484.0</td>\n",
       "      <td>Марксистская</td>\n",
       "      <td>None</td>\n",
       "    </tr>\n",
       "    <tr>\n",
       "      <th>136</th>\n",
       "      <td>https://cash.rbc.ru/cash/bank/103188.html</td>\n",
       "      <td>КБ ЮНИСТРИМ ОО № 196</td>\n",
       "      <td>+7 926 331-08-57</td>\n",
       "      <td>82.60</td>\n",
       "      <td>79.30</td>\n",
       "      <td>81.0</td>\n",
       "      <td>Партизанская</td>\n",
       "      <td>None</td>\n",
       "    </tr>\n",
       "    <tr>\n",
       "      <th>154</th>\n",
       "      <td>https://cash.rbc.ru/cash/bank/100946.html</td>\n",
       "      <td>Джей энд Ти Банк ДО Таганский</td>\n",
       "      <td>+7 495 662-45-45 доб. 750</td>\n",
       "      <td>81.70</td>\n",
       "      <td>80.70</td>\n",
       "      <td>450.0</td>\n",
       "      <td>Марксистская</td>\n",
       "      <td>None</td>\n",
       "    </tr>\n",
       "    <tr>\n",
       "      <th>166</th>\n",
       "      <td>https://cash.rbc.ru/cash/bank/102966.html</td>\n",
       "      <td>Газпромбанк ДО 099/1078</td>\n",
       "      <td>+7 800 707-70-37</td>\n",
       "      <td>83.84</td>\n",
       "      <td>79.71</td>\n",
       "      <td>91.0</td>\n",
       "      <td>Щукинская</td>\n",
       "      <td>Таганско-Краснопресненская</td>\n",
       "    </tr>\n",
       "    <tr>\n",
       "      <th>186</th>\n",
       "      <td>https://cash.rbc.ru/cash/bank/102838.html</td>\n",
       "      <td>Газпромбанк ДО 099/1062</td>\n",
       "      <td>+7 800 707-70-37</td>\n",
       "      <td>83.84</td>\n",
       "      <td>79.71</td>\n",
       "      <td>92.0</td>\n",
       "      <td>Молодёжная</td>\n",
       "      <td>None</td>\n",
       "    </tr>\n",
       "    <tr>\n",
       "      <th>189</th>\n",
       "      <td>https://cash.rbc.ru/cash/bank/102972.html</td>\n",
       "      <td>Газпромбанк ДО 099/1069</td>\n",
       "      <td>+7 800 707-70-37</td>\n",
       "      <td>83.84</td>\n",
       "      <td>79.71</td>\n",
       "      <td>163.0</td>\n",
       "      <td>Марксистская</td>\n",
       "      <td>None</td>\n",
       "    </tr>\n",
       "    <tr>\n",
       "      <th>190</th>\n",
       "      <td>https://cash.rbc.ru/cash/bank/102842.html</td>\n",
       "      <td>Газпромбанк ДО 099/1064</td>\n",
       "      <td>+7 800 707-70-37</td>\n",
       "      <td>83.84</td>\n",
       "      <td>79.71</td>\n",
       "      <td>48.0</td>\n",
       "      <td>Войковская</td>\n",
       "      <td>None</td>\n",
       "    </tr>\n",
       "    <tr>\n",
       "      <th>191</th>\n",
       "      <td>https://cash.rbc.ru/cash/bank/102941.html</td>\n",
       "      <td>Газпромбанк ДО 099/1065</td>\n",
       "      <td>+7 800 707-70-37</td>\n",
       "      <td>83.84</td>\n",
       "      <td>79.71</td>\n",
       "      <td>93.0</td>\n",
       "      <td>Аэропорт</td>\n",
       "      <td>None</td>\n",
       "    </tr>\n",
       "    <tr>\n",
       "      <th>204</th>\n",
       "      <td>https://cash.rbc.ru/cash/bank/61525.html</td>\n",
       "      <td>НС Банк ДО На Азовской</td>\n",
       "      <td>+7 800 555-43-24</td>\n",
       "      <td>82.62</td>\n",
       "      <td>79.12</td>\n",
       "      <td>282.0</td>\n",
       "      <td>Каховская</td>\n",
       "      <td>None</td>\n",
       "    </tr>\n",
       "    <tr>\n",
       "      <th>212</th>\n",
       "      <td>https://cash.rbc.ru/cash/bank/102906.html</td>\n",
       "      <td>КБ ЛОКО-Банк ДО Таганский</td>\n",
       "      <td>+7 495 739-55-55</td>\n",
       "      <td>82.40</td>\n",
       "      <td>79.60</td>\n",
       "      <td>163.0</td>\n",
       "      <td>Марксистская</td>\n",
       "      <td>None</td>\n",
       "    </tr>\n",
       "    <tr>\n",
       "      <th>217</th>\n",
       "      <td>https://cash.rbc.ru/cash/bank/61297.html</td>\n",
       "      <td>НС Банк ул. Добровольческая</td>\n",
       "      <td>+7 800 555-43-24</td>\n",
       "      <td>82.62</td>\n",
       "      <td>79.12</td>\n",
       "      <td>807.0</td>\n",
       "      <td>Марксистская</td>\n",
       "      <td>None</td>\n",
       "    </tr>\n",
       "    <tr>\n",
       "      <th>230</th>\n",
       "      <td>https://cash.rbc.ru/cash/bank/101850.html</td>\n",
       "      <td>КБ ВНЕШФИНБАНК ДО Столичный</td>\n",
       "      <td>+7 495 256-80-22</td>\n",
       "      <td>81.70</td>\n",
       "      <td>80.80</td>\n",
       "      <td>80.0</td>\n",
       "      <td>Рязанский проспект</td>\n",
       "      <td>None</td>\n",
       "    </tr>\n",
       "  </tbody>\n",
       "</table>\n",
       "</div>"
      ],
      "text/plain": [
       "                                          link  \\\n",
       "17   https://cash.rbc.ru/cash/bank/102407.html   \n",
       "22   https://cash.rbc.ru/cash/bank/103126.html   \n",
       "29   https://cash.rbc.ru/cash/bank/101865.html   \n",
       "39   https://cash.rbc.ru/cash/bank/102939.html   \n",
       "40   https://cash.rbc.ru/cash/bank/103203.html   \n",
       "70   https://cash.rbc.ru/cash/bank/102331.html   \n",
       "72   https://cash.rbc.ru/cash/bank/102856.html   \n",
       "73   https://cash.rbc.ru/cash/bank/102857.html   \n",
       "89   https://cash.rbc.ru/cash/bank/103182.html   \n",
       "99   https://cash.rbc.ru/cash/bank/103284.html   \n",
       "110  https://cash.rbc.ru/cash/bank/103183.html   \n",
       "123  https://cash.rbc.ru/cash/bank/100523.html   \n",
       "136  https://cash.rbc.ru/cash/bank/103188.html   \n",
       "154  https://cash.rbc.ru/cash/bank/100946.html   \n",
       "166  https://cash.rbc.ru/cash/bank/102966.html   \n",
       "186  https://cash.rbc.ru/cash/bank/102838.html   \n",
       "189  https://cash.rbc.ru/cash/bank/102972.html   \n",
       "190  https://cash.rbc.ru/cash/bank/102842.html   \n",
       "191  https://cash.rbc.ru/cash/bank/102941.html   \n",
       "204   https://cash.rbc.ru/cash/bank/61525.html   \n",
       "212  https://cash.rbc.ru/cash/bank/102906.html   \n",
       "217   https://cash.rbc.ru/cash/bank/61297.html   \n",
       "230  https://cash.rbc.ru/cash/bank/101850.html   \n",
       "\n",
       "                                                name  \\\n",
       "17         АКБ Трансстройбанк ОКВКУ Электрозаводская   \n",
       "22                          Сбербанк ДО № 9038/01654   \n",
       "29   Банк ФК Открытие Филиал Центральный ДО Коньково   \n",
       "39                 АКБ Трансстройбанк ДО Семеновский   \n",
       "40                   АКБ Трансстройбанк ДО Таганская   \n",
       "70                    АКБ Трансстройбанк ОО Парковый   \n",
       "72                   Россельхозбанк ул. Марксистская   \n",
       "73                      Россельхозбанк ул. Митинская   \n",
       "89                              КБ ЮНИСТРИМ ОО № 198   \n",
       "99                              РОСБАНК ДО Таганский   \n",
       "110                              КБ ЮНИСТРИМ ОО № 12   \n",
       "123             Реалист Банк бывший БайкалИнвестБанк   \n",
       "136                             КБ ЮНИСТРИМ ОО № 196   \n",
       "154                    Джей энд Ти Банк ДО Таганский   \n",
       "166                          Газпромбанк ДО 099/1078   \n",
       "186                          Газпромбанк ДО 099/1062   \n",
       "189                          Газпромбанк ДО 099/1069   \n",
       "190                          Газпромбанк ДО 099/1064   \n",
       "191                          Газпромбанк ДО 099/1065   \n",
       "204                           НС Банк ДО На Азовской   \n",
       "212                        КБ ЛОКО-Банк ДО Таганский   \n",
       "217                      НС Банк ул. Добровольческая   \n",
       "230                      КБ ВНЕШФИНБАНК ДО Столичный   \n",
       "\n",
       "                         phone    buy   sell  distance_m             station  \\\n",
       "17   +7 495 786-37-73 доб. 566  82.20  80.30        73.0   Электрозаводская    \n",
       "22            +7 800 555-55-50  83.65  78.60        44.0      Деловой центр    \n",
       "29            +7 800 700-37-10  82.10  79.90        76.0            Коньково   \n",
       "39            +7 495 786-37-74  82.30  80.50        62.0         Семёновская   \n",
       "40            +7 495 786-37-74  81.90  81.00        62.0        Марксистская   \n",
       "70   +7 495 786-37-73 доб. 542  82.00  80.00        80.0        Первомайская   \n",
       "72            +7 495 644-02-38  81.85  77.10       163.0        Марксистская   \n",
       "73            +7 495 644-02-38  83.15  77.10        88.0              Митино   \n",
       "89            +7 925 586-13-68  83.00  79.00        99.0       Речной вокзал   \n",
       "99            +7 800 234-44-34  84.70  78.20       695.0        Марксистская   \n",
       "110           +7 925 586-13-68  83.00  79.00        94.0         Достоевская   \n",
       "123           +7 499 968-94-24  81.68  80.90       484.0        Марксистская   \n",
       "136           +7 926 331-08-57  82.60  79.30        81.0        Партизанская   \n",
       "154  +7 495 662-45-45 доб. 750  81.70  80.70       450.0        Марксистская   \n",
       "166           +7 800 707-70-37  83.84  79.71        91.0          Щукинская    \n",
       "186           +7 800 707-70-37  83.84  79.71        92.0          Молодёжная   \n",
       "189           +7 800 707-70-37  83.84  79.71       163.0        Марксистская   \n",
       "190           +7 800 707-70-37  83.84  79.71        48.0          Войковская   \n",
       "191           +7 800 707-70-37  83.84  79.71        93.0            Аэропорт   \n",
       "204           +7 800 555-43-24  82.62  79.12       282.0           Каховская   \n",
       "212           +7 495 739-55-55  82.40  79.60       163.0        Марксистская   \n",
       "217           +7 800 555-43-24  82.62  79.12       807.0        Марксистская   \n",
       "230           +7 495 256-80-22  81.70  80.80        80.0  Рязанский проспект   \n",
       "\n",
       "                           line  \n",
       "17          Арбатско-Покровская  \n",
       "22            Большая кольцевая  \n",
       "29                         None  \n",
       "39                         None  \n",
       "40                         None  \n",
       "70                         None  \n",
       "72                         None  \n",
       "73                         None  \n",
       "89                         None  \n",
       "99                         None  \n",
       "110                        None  \n",
       "123                        None  \n",
       "136                        None  \n",
       "154                        None  \n",
       "166  Таганско-Краснопресненская  \n",
       "186                        None  \n",
       "189                        None  \n",
       "190                        None  \n",
       "191                        None  \n",
       "204                        None  \n",
       "212                        None  \n",
       "217                        None  \n",
       "230                        None  "
      ]
     },
     "execution_count": 52,
     "metadata": {},
     "output_type": "execute_result"
    }
   ],
   "source": [
    "# или станции из stations, или любые станции \n",
    "# с расстоянием менее 100 м до метро\n",
    "\n",
    "final[(final[\"station\"].isin(stations)) | (final[\"distance_m\"] < 100)]"
   ]
  }
 ],
 "metadata": {
  "kernelspec": {
   "display_name": "Python 3",
   "language": "python",
   "name": "python3"
  },
  "language_info": {
   "codemirror_mode": {
    "name": "ipython",
    "version": 3
   },
   "file_extension": ".py",
   "mimetype": "text/x-python",
   "name": "python",
   "nbconvert_exporter": "python",
   "pygments_lexer": "ipython3",
   "version": "3.7.4"
  }
 },
 "nbformat": 4,
 "nbformat_minor": 2
}
