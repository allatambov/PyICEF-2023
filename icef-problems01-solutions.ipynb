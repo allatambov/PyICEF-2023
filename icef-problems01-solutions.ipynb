{
 "cells": [
  {
   "cell_type": "markdown",
   "metadata": {},
   "source": [
    "# Python для сбора и анализа данных\n",
    "\n",
    "*Алла Тамбовцева, НИУ ВШЭ*\n",
    "\n",
    "## Практикум 1: ввод-вывод и приведение типов\n",
    "\n",
    "### Задание 0\n",
    "\n",
    "Посчитайте:\n",
    "\n",
    "* $\\log(25)$;\n",
    "* $\\log_{10}(1000)$;\n",
    "* $\\pi^3$;\n",
    "* $\\sqrt{459}$."
   ]
  },
  {
   "cell_type": "code",
   "execution_count": 2,
   "metadata": {},
   "outputs": [
    {
     "name": "stdout",
     "output_type": "stream",
     "text": [
      "3.2188758248682006\n",
      "2.9999999999999996\n",
      "3.0\n",
      "31.006276680299816\n",
      "21.42428528562855\n"
     ]
    }
   ],
   "source": [
    "import math\n",
    "\n",
    "# натуральный логарифм\n",
    "print(math.log(25))\n",
    "\n",
    "# десятичный логарифм – log10 эффективнее\n",
    "print(math.log(1000, 10))\n",
    "print(math.log10(1000))\n",
    "\n",
    "# степень\n",
    "print(math.pi ** 3)\n",
    "\n",
    "# корень\n",
    "print(math.sqrt(459))"
   ]
  },
  {
   "cell_type": "markdown",
   "metadata": {},
   "source": [
    "### Задание 1\n",
    "\n",
    "В переменных `a` и `b` хранятся некоторые числа. Напишите код, который бы менял значения переменных местами. Создавать вспомогательные переменные можно.\n",
    "\n",
    "*Пример:*"
   ]
  },
  {
   "cell_type": "code",
   "execution_count": 3,
   "metadata": {},
   "outputs": [],
   "source": [
    "# до\n",
    "a = 2\n",
    "b = 5"
   ]
  },
  {
   "cell_type": "code",
   "execution_count": 4,
   "metadata": {},
   "outputs": [
    {
     "name": "stdout",
     "output_type": "stream",
     "text": [
      "5 2\n"
     ]
    }
   ],
   "source": [
    "# после\n",
    "print(a, b)"
   ]
  },
  {
   "cell_type": "code",
   "execution_count": 5,
   "metadata": {},
   "outputs": [
    {
     "name": "stdout",
     "output_type": "stream",
     "text": [
      "5\n",
      "2\n"
     ]
    }
   ],
   "source": [
    "# решение с новой переменной\n",
    "c = a\n",
    "a = b\n",
    "b = c\n",
    "print(a)\n",
    "print(b)"
   ]
  },
  {
   "cell_type": "code",
   "execution_count": 9,
   "metadata": {},
   "outputs": [
    {
     "name": "stdout",
     "output_type": "stream",
     "text": [
      "5 2\n"
     ]
    }
   ],
   "source": [
    "# решение с множественным присваиванием\n",
    "\n",
    "a = 2\n",
    "b = 5\n",
    "a, b = b, a\n",
    "print(a, b)"
   ]
  },
  {
   "cell_type": "markdown",
   "metadata": {},
   "source": [
    "### Задание 3\n",
    "\n",
    "Напишите программу, которая запрашивает у пользователя с клавиатуры его рост в сантиметрах, его вес в килограммах (каждый показатель – с новой строки, в новом запросе) и выводит на экран сообщение вида:\n",
    "\n",
    "        Индекс массы тела: [значение].\n",
    "\n",
    "где вместо `[значение]` подставляется посчитанное значение индекса массы тела.\n",
    "\n",
    "Индекс массы тела считается так:\n",
    "\n",
    "$$\\text{BMI}=\\frac{\\text{m}}{\\text{h}^2},$$\n",
    "\n",
    "где $\\text{m}$ – масса тела в килограммах, $\\text{h}$ – рост в метрах."
   ]
  },
  {
   "cell_type": "code",
   "execution_count": 5,
   "metadata": {},
   "outputs": [
    {
     "name": "stdout",
     "output_type": "stream",
     "text": [
      "168\n",
      "55\n",
      "Индекс массы тела: 19.49.\n",
      "Индекс массы тела: 19.49.\n"
     ]
    }
   ],
   "source": [
    "height = float(input())\n",
    "weight = float(input())\n",
    "\n",
    "bmi = weight / (height / 100) ** 2\n",
    "print(f\"Индекс массы тела: {bmi:.2f}.\")\n",
    "print(f\"Индекс массы тела: {round(bmi, 2)}.\")"
   ]
  },
  {
   "cell_type": "markdown",
   "metadata": {},
   "source": [
    "### Задание 4\n",
    "\n",
    "Выполните задание 3, но вместо обычного запроса с клавиатуры используйте виджеты: \n",
    "\n",
    "* поле для ввода целого числа для роста в сантиметрах;\n",
    "* слайдер с целыми числами от 0 до 250 с шагом 1 для веса.\n",
    "\n",
    "Примеры виджетов можно посмотреть [здесь](https://ipywidgets.readthedocs.io/en/latest/examples/Widget%20List.html)."
   ]
  },
  {
   "cell_type": "code",
   "execution_count": 14,
   "metadata": {},
   "outputs": [],
   "source": [
    "# на случай, если ipywidgets не найден\n",
    "# устанавливаем его (редкий случай)\n",
    "\n",
    "!pip install ipywidgets"
   ]
  },
  {
   "cell_type": "code",
   "execution_count": 6,
   "metadata": {},
   "outputs": [
    {
     "data": {
      "application/vnd.jupyter.widget-view+json": {
       "model_id": "2f77173dd47a45809f725226064c894a",
       "version_major": 2,
       "version_minor": 0
      },
      "text/plain": [
       "IntText(value=1, description='Height:')"
      ]
     },
     "metadata": {},
     "output_type": "display_data"
    },
    {
     "data": {
      "application/vnd.jupyter.widget-view+json": {
       "model_id": "32d045f789ed4261a3b8a869a5b2cd66",
       "version_major": 2,
       "version_minor": 0
      },
      "text/plain": [
       "IntSlider(value=1, description='Weight:', max=250)"
      ]
     },
     "metadata": {},
     "output_type": "display_data"
    }
   ],
   "source": [
    "import ipywidgets as widgets\n",
    "\n",
    "rost = widgets.IntText(value=1, description='Height:')\n",
    "ves = widgets.IntSlider(value=1, min=0, max=250, step=1, \n",
    "                        description='Weight:')\n",
    "display(rost)\n",
    "display(ves) "
   ]
  },
  {
   "cell_type": "code",
   "execution_count": 7,
   "metadata": {},
   "outputs": [
    {
     "name": "stdout",
     "output_type": "stream",
     "text": [
      "Индекс массы тела: 19.84.\n"
     ]
    }
   ],
   "source": [
    "h = rost.value\n",
    "w = ves.value\n",
    "bmi = w / (h / 100) ** 2\n",
    "print(f\"Индекс массы тела: {bmi:.2f}.\")"
   ]
  },
  {
   "cell_type": "markdown",
   "metadata": {},
   "source": [
    "Если хотим сделать слайдер подлиннее, чтобы значения пролистывались корректно (сейчас он слишком короткий, и хотя шаг равен 1, выглядит будто мы можем выбирать только чётные значения), можем выставить стилевые настройки, используя аргумент `layout` и соответствующую функцию `Layout()`:"
   ]
  },
  {
   "cell_type": "code",
   "execution_count": 11,
   "metadata": {},
   "outputs": [
    {
     "data": {
      "application/vnd.jupyter.widget-view+json": {
       "model_id": "d6aab946c0b545898aea8ef4c82b7090",
       "version_major": 2,
       "version_minor": 0
      },
      "text/plain": [
       "IntText(value=1, description='Height:')"
      ]
     },
     "metadata": {},
     "output_type": "display_data"
    },
    {
     "data": {
      "application/vnd.jupyter.widget-view+json": {
       "model_id": "d6aa3c5d2d964954b9a0d7397ab0cf20",
       "version_major": 2,
       "version_minor": 0
      },
      "text/plain": [
       "IntSlider(value=1, description='Weight:', layout=Layout(width='80%'), max=250)"
      ]
     },
     "metadata": {},
     "output_type": "display_data"
    }
   ],
   "source": [
    "from ipywidgets import Layout\n",
    "\n",
    "# ширина 80% от страницы\n",
    "\n",
    "rost = widgets.IntText(value=1, description='Height:')\n",
    "ves = widgets.IntSlider(value=1, \n",
    "                        min=0, \n",
    "                        max=250, \n",
    "                        step=1, \n",
    "                        description='Weight:',\n",
    "                        layout=Layout(width='80%'))\n",
    "display(rost)\n",
    "display(ves) "
   ]
  }
 ],
 "metadata": {
  "kernelspec": {
   "display_name": "Python 3",
   "language": "python",
   "name": "python3"
  },
  "language_info": {
   "codemirror_mode": {
    "name": "ipython",
    "version": 3
   },
   "file_extension": ".py",
   "mimetype": "text/x-python",
   "name": "python",
   "nbconvert_exporter": "python",
   "pygments_lexer": "ipython3",
   "version": "3.7.4"
  }
 },
 "nbformat": 4,
 "nbformat_minor": 2
}
