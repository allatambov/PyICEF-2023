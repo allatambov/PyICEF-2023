{
 "cells": [
  {
   "cell_type": "markdown",
   "metadata": {},
   "source": [
    "# Python для сбора и анализа данных \n",
    "\n",
    "*Алла Тамбовцева, НИУ ВШЭ*\n",
    "\n",
    "## Практикум 6: функции"
   ]
  },
  {
   "cell_type": "markdown",
   "metadata": {},
   "source": [
    "### Задача 1\n",
    "\n",
    "Напишите функцию `nums()`, которая принимает на вход целое число, а возвращает список из двух элементов: целое число, предшествующее принятому на вход, и число, следующее за ним.\n",
    "\n",
    "**Пример:**\n",
    "\n",
    "*Входные данные:*\n",
    "\n",
    "    7\n",
    "\n",
    "*Выходные данные:*\n",
    "\n",
    "    [6, 8]"
   ]
  },
  {
   "cell_type": "code",
   "execution_count": 1,
   "metadata": {},
   "outputs": [
    {
     "data": {
      "text/plain": [
       "[-1, 1]"
      ]
     },
     "execution_count": 1,
     "metadata": {},
     "output_type": "execute_result"
    }
   ],
   "source": [
    "def nums(x):\n",
    "    return [x - 1, x + 1]\n",
    "\n",
    "nums(0)"
   ]
  },
  {
   "cell_type": "markdown",
   "metadata": {},
   "source": [
    "### Задача 2\n",
    "\n",
    "Напишите функцию `str_lower()`, которая принимает на вход строку (набор слов через пробел), а возвращает список ее элементов в нижнем регистре. \n",
    "\n",
    "**Пример:**\n",
    "\n",
    "*Входные данные:*\n",
    "\n",
    "    \"В лесу родилась ёлочка В лесу она росла\"\n",
    "\n",
    "*Выходные данные:*\n",
    "\n",
    "    ['в', 'лесу', 'родилась', 'ёлочка', 'в', 'лесу', 'она', 'росла']"
   ]
  },
  {
   "cell_type": "code",
   "execution_count": 2,
   "metadata": {},
   "outputs": [
    {
     "data": {
      "text/plain": [
       "['в', 'лесу', 'родилась', 'ёлочка', 'в', 'лесу', 'она', 'росла']"
      ]
     },
     "execution_count": 2,
     "metadata": {},
     "output_type": "execute_result"
    }
   ],
   "source": [
    "def str_lower(text):\n",
    "    return text.lower().split()\n",
    "\n",
    "str_lower(\"В лесу родилась ёлочка В лесу она росла\")"
   ]
  },
  {
   "cell_type": "markdown",
   "metadata": {},
   "source": [
    "### Задача 3\n",
    "\n",
    "Напишите функцию `my_log()`, которая принимает на вход список чисел, и возвращает список их натуральных логарифмов. Если число меньше или равно 0, на его месте в возвращаемом списке должно быть None.\n",
    "\n",
    "**Пример:**\n",
    "\n",
    "*Входные данные:*\n",
    "\n",
    "    [1, 3, 2.5, -1, 9, 0, 2.71]\n",
    "\n",
    "*Выходные данные:*\n",
    "\n",
    "    [0.0,\n",
    "     1.0986122886681098,\n",
    "     0.9162907318741551,\n",
    "     None,\n",
    "     2.1972245773362196,\n",
    "     None,\n",
    "     0.9969486348916096]"
   ]
  },
  {
   "cell_type": "code",
   "execution_count": 3,
   "metadata": {},
   "outputs": [
    {
     "data": {
      "text/plain": [
       "[0.0,\n",
       " 1.0986122886681098,\n",
       " 0.9162907318741551,\n",
       " None,\n",
       " 2.1972245773362196,\n",
       " None,\n",
       " 0.9969486348916096]"
      ]
     },
     "execution_count": 3,
     "metadata": {},
     "output_type": "execute_result"
    }
   ],
   "source": [
    "from math import log\n",
    "\n",
    "def my_log(L):\n",
    "    Logs = []\n",
    "    for i in L:\n",
    "        if i > 0:\n",
    "            Logs.append(log(i))\n",
    "        else:\n",
    "            Logs.append(None)\n",
    "    return Logs\n",
    "\n",
    "my_log([1, 3, 2.5, -1, 9, 0, 2.71])"
   ]
  },
  {
   "cell_type": "markdown",
   "metadata": {},
   "source": [
    "### Задача 4\n",
    "\n",
    "Напишите функцию, которая принимает на вход два списка (имена людей и их возраст) и делает следующее:\n",
    "\n",
    "* если эти два списка имеют одинаковую длину, то возвращает словарь с парами имя-возраст;\n",
    "\n",
    "* если эти два списка имеют разную длину, то функция выводит на экран сообщение \"Списки имеют разную длину\" и возвращает пустой словарь.\n",
    "\n",
    "**Пример:**\n",
    "\n",
    "*Входные данные:*\n",
    "\n",
    "    [\"Ann\", \"Tim\", \"Sam\"]\n",
    "    [12, 23, 17]\n",
    "\n",
    "*Выходные данные:*\n",
    "\n",
    "    {\"Ann\": 12, \"Tim\": 23, \"Sam\": 17}\n",
    "\n",
    "*Входные данные:*\n",
    "\n",
    "    [\"Ann\", \"Tim\", \"Sam\"]\n",
    "    [12, 23, 17, 45]\n",
    "\n",
    "*Выходные данные:*\n",
    "    \n",
    "    Списки имеют разную длину\n",
    "    {}"
   ]
  },
  {
   "cell_type": "code",
   "execution_count": 4,
   "metadata": {},
   "outputs": [
    {
     "data": {
      "text/plain": [
       "{'Ann': 12, 'Tim': 23, 'Sam': 17}"
      ]
     },
     "execution_count": 4,
     "metadata": {},
     "output_type": "execute_result"
    }
   ],
   "source": [
    "def info(name, age):\n",
    "    if len(name) != len(age):\n",
    "        D = {}\n",
    "        print(\"Списки имеют разную длину\")\n",
    "    else:\n",
    "        D = dict(zip(name, age))\n",
    "    return D\n",
    "\n",
    "info([\"Ann\", \"Tim\", \"Sam\"], [12, 23, 17])"
   ]
  },
  {
   "cell_type": "markdown",
   "metadata": {},
   "source": [
    "### Задача 5\n",
    "\n",
    "Напишите функцию `binom_prob()`, которая считает вероятность того, что проведя `n` испытаний Бернулли с вероятностью успеха `p`, мы получим ровно `k` успехов. Эта функция принимает на вход три аргумента: `p`, `n` и `k` и возвращает такой результат:\n",
    "\n",
    "$P(X = k) = C_n^k \\cdot p^k \\cdot (1-p)^{n-k}$."
   ]
  },
  {
   "cell_type": "code",
   "execution_count": 5,
   "metadata": {},
   "outputs": [
    {
     "data": {
      "text/plain": [
       "0.0439453125"
      ]
     },
     "execution_count": 5,
     "metadata": {},
     "output_type": "execute_result"
    }
   ],
   "source": [
    "# импортируем factorial()\n",
    "# используем binom(), написанную ранее\n",
    "\n",
    "from math import factorial\n",
    "\n",
    "def binom(n, k):\n",
    "    if n < k:\n",
    "        r = 0\n",
    "    else:\n",
    "        r = factorial(n) // ((factorial(k) * factorial(n - k)))\n",
    "    return r\n",
    "\n",
    "# вызываем ее внутри binom_prob()\n",
    "\n",
    "def binom_prob(p, n, k):\n",
    "    return binom(n, k) * p ** k * (1 - p) ** (n - k)\n",
    "\n",
    "binom_prob(0.5, 10, 2)"
   ]
  },
  {
   "cell_type": "code",
   "execution_count": 6,
   "metadata": {},
   "outputs": [],
   "source": [
    "# можем включить binom() внутрь binom_prob()\n",
    "# тогда Python не будет видеть ее отдельно\n",
    "# (локальная функция как локальные переменные n, p, k)\n",
    "\n",
    "def binom_prob(p, n, k):\n",
    "    \n",
    "    def binom(n, k):\n",
    "        if n < k:\n",
    "            r = 0\n",
    "        else:\n",
    "            r = factorial(n) // ((factorial(k) * factorial(n - k)))\n",
    "        return r\n",
    "\n",
    "    return binom(n, k) * p ** k * (1 - p) ** (n - k)"
   ]
  },
  {
   "cell_type": "code",
   "execution_count": 7,
   "metadata": {},
   "outputs": [],
   "source": [
    "# Также можем создать исполняемый файл .py\n",
    "# Home -> New -> Text file -> называем myfunc.py\n",
    "# копируем туда код из ячейки с binom() и binom_prob() и сохраняем.\n",
    "# Теперь можно импортировать эти функции как будто из модуля,\n",
    "# полезно, если хотим вынести большие функции в отдельный файл"
   ]
  },
  {
   "cell_type": "code",
   "execution_count": null,
   "metadata": {},
   "outputs": [],
   "source": [
    "from myfunc import *\n",
    "\n",
    "binom()"
   ]
  }
 ],
 "metadata": {
  "kernelspec": {
   "display_name": "Python 3",
   "language": "python",
   "name": "python3"
  },
  "language_info": {
   "codemirror_mode": {
    "name": "ipython",
    "version": 3
   },
   "file_extension": ".py",
   "mimetype": "text/x-python",
   "name": "python",
   "nbconvert_exporter": "python",
   "pygments_lexer": "ipython3",
   "version": "3.7.4"
  }
 },
 "nbformat": 4,
 "nbformat_minor": 2
}
