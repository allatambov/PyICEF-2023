{
 "cells": [
  {
   "cell_type": "markdown",
   "metadata": {},
   "source": [
    "# Python для сбора и анализа данных\n",
    "\n",
    "*Алла Тамбовцева*\n",
    "\n",
    "## Практикум 2: списки, строки, цикл `for`"
   ]
  },
  {
   "cell_type": "markdown",
   "metadata": {},
   "source": [
    "### Задача 1\n",
    "\n",
    "Чип и Дейл собирают орехи, чтобы Спасатели (а их в команде пятеро) смогли ими перекусить во время совместного вечернего просмотра фильма о пришельцах. Спасатели всегда делят орехи поровну.\n",
    "\n",
    "Напишите программу, которая запрашивает с клавиатуры число орехов, набранное Чипом и Дейлом по-отдельности (два целых числа через пробел) и выводит на экран через пробел число орехов, которое достанется каждому из Спасателей, и число орехов, которое при таком дележе останется. \n",
    "\n",
    "**Пример работы программы:**\n",
    "\n",
    "Ввод:\n",
    "\n",
    "    20 30\n",
    "\n",
    "Вывод:\n",
    "\n",
    "    10 0\n",
    "    \n",
    "Ввод:\n",
    "\n",
    "    30 12\n",
    "\n",
    "Вывод:\n",
    "\n",
    "    8 2\n",
    "    \n",
    "Ввод:\n",
    "\n",
    "    62 34\n",
    "\n",
    "Вывод:\n",
    "\n",
    "    19 1"
   ]
  },
  {
   "cell_type": "code",
   "execution_count": 1,
   "metadata": {},
   "outputs": [
    {
     "name": "stdout",
     "output_type": "stream",
     "text": [
      "62 34\n",
      "19 1\n"
     ]
    }
   ],
   "source": [
    "# запрашиваем ввод и сразу разбиваем строку по пробелу\n",
    "# в итоге, например, inp = ['30', '12']\n",
    "# превращаем каждый элемент в целое число\n",
    "\n",
    "inp = input().split()\n",
    "one = int(inp[0])\n",
    "two = int(inp[1])\n",
    "summa = one + two\n",
    "print(summa // 5, summa % 5)"
   ]
  },
  {
   "cell_type": "code",
   "execution_count": 2,
   "metadata": {},
   "outputs": [
    {
     "name": "stdout",
     "output_type": "stream",
     "text": [
      "62 34\n",
      "19 1\n"
     ]
    }
   ],
   "source": [
    "# то же, но более компактно\n",
    "# one, two: python поймет, что one – первый элемент списка, two – второй\n",
    "\n",
    "one, two = input().split()\n",
    "summa = int(one) + int(two)\n",
    "print(summa // 5, summa % 5)"
   ]
  },
  {
   "cell_type": "markdown",
   "metadata": {},
   "source": [
    "### Задача 2\n",
    "\n",
    "Напишите программу, которая запрашивает с клавиатуры время в формате `ЧЧ:ММ:СС` (часы в 24-часовом формате, минуты и секунды) и выводит на экран число секунд, которое прошло с начала дня.\n",
    "\n",
    "**Пример работы программы:**\n",
    "\n",
    "Ввод:\n",
    "\n",
    "    00:01:20\n",
    "\n",
    "Вывод:\n",
    "\n",
    "    80\n",
    "    \n",
    "Ввод:\n",
    "\n",
    "    15:25:30\n",
    "\n",
    "Вывод:\n",
    "\n",
    "    55530"
   ]
  },
  {
   "cell_type": "code",
   "execution_count": 3,
   "metadata": {},
   "outputs": [
    {
     "name": "stdout",
     "output_type": "stream",
     "text": [
      "00:01:20\n",
      "80\n"
     ]
    }
   ],
   "source": [
    "# та же идея, parts вида ['00', '01', '20']\n",
    "\n",
    "parts = input().split(\":\")\n",
    "hours = int(parts[0])\n",
    "mins = int(parts[1])\n",
    "secs = int(parts[2])\n",
    "print(hours * 3600 + mins * 60 + secs)"
   ]
  },
  {
   "cell_type": "code",
   "execution_count": 4,
   "metadata": {},
   "outputs": [
    {
     "name": "stdout",
     "output_type": "stream",
     "text": [
      "15:25:30\n",
      "55530\n"
     ]
    }
   ],
   "source": [
    "# компактнее\n",
    "\n",
    "hours, mins, secs = input().split(\":\")\n",
    "print(int(hours) * 3600 + int(mins) * 60 + int(secs))"
   ]
  },
  {
   "cell_type": "markdown",
   "metadata": {},
   "source": [
    "### Задача 3\n",
    "\n",
    "Есть список имён:"
   ]
  },
  {
   "cell_type": "code",
   "execution_count": 5,
   "metadata": {},
   "outputs": [],
   "source": [
    "girls = [\"Иветта\", \"Виолетта\", \"Кассандра\", \"Вирджиния\", \n",
    "         \"Амелия\", \"Розамунда\", \"Янина\", \"Беатриса\"]"
   ]
  },
  {
   "cell_type": "markdown",
   "metadata": {},
   "source": [
    "Используя список `girls`, выведите на экран следующие списки:\n",
    "\n",
    "    [\"Виолетта\", \"Кассандра\", \"Вирджиния\", \"Амелия\"]\n",
    "    [\"Вирджиния\", \"Амелия\", \"Розамунда\", \"Янина\", \"Беатриса\"]\n",
    "    [\"Иветта\", \"Виолетта\", \"Вирджиния\", \"Амелия\"]\n",
    "    [\"Кассандра\", \"Амелия\", \"Розамунда\"]"
   ]
  },
  {
   "cell_type": "code",
   "execution_count": 6,
   "metadata": {},
   "outputs": [
    {
     "name": "stdout",
     "output_type": "stream",
     "text": [
      "['Виолетта', 'Кассандра', 'Вирджиния', 'Амелия']\n",
      "['Вирджиния', 'Амелия', 'Розамунда', 'Янина', 'Беатриса']\n"
     ]
    }
   ],
   "source": [
    "print(girls[1:5])\n",
    "print(girls[3:])"
   ]
  },
  {
   "cell_type": "code",
   "execution_count": 7,
   "metadata": {},
   "outputs": [
    {
     "name": "stdout",
     "output_type": "stream",
     "text": [
      "['Иветта', 'Виолетта', 'Вирджиния', 'Амелия']\n",
      "['Кассандра', 'Амелия', 'Розамунда']\n"
     ]
    }
   ],
   "source": [
    "# списки можно склеивать через + (как строки)\n",
    "print(girls[0:2] + girls[3:5])\n",
    "print(girls[2:3] + girls[4:6])"
   ]
  },
  {
   "cell_type": "code",
   "execution_count": 8,
   "metadata": {},
   "outputs": [
    {
     "ename": "TypeError",
     "evalue": "can only concatenate str (not \"list\") to str",
     "output_type": "error",
     "traceback": [
      "\u001b[0;31m---------------------------------------------------------------------------\u001b[0m",
      "\u001b[0;31mTypeError\u001b[0m                                 Traceback (most recent call last)",
      "\u001b[0;32m<ipython-input-8-abc73a291fa5>\u001b[0m in \u001b[0;36m<module>\u001b[0;34m\u001b[0m\n\u001b[1;32m      5\u001b[0m \u001b[0;31m# 'Кассандра' + ['Амелия', 'Розамунда']\u001b[0m\u001b[0;34m\u001b[0m\u001b[0;34m\u001b[0m\u001b[0;34m\u001b[0m\u001b[0m\n\u001b[1;32m      6\u001b[0m \u001b[0;34m\u001b[0m\u001b[0m\n\u001b[0;32m----> 7\u001b[0;31m \u001b[0mprint\u001b[0m\u001b[0;34m(\u001b[0m\u001b[0mgirls\u001b[0m\u001b[0;34m[\u001b[0m\u001b[0;36m2\u001b[0m\u001b[0;34m]\u001b[0m \u001b[0;34m+\u001b[0m \u001b[0mgirls\u001b[0m\u001b[0;34m[\u001b[0m\u001b[0;36m4\u001b[0m\u001b[0;34m:\u001b[0m\u001b[0;36m6\u001b[0m\u001b[0;34m]\u001b[0m\u001b[0;34m)\u001b[0m\u001b[0;34m\u001b[0m\u001b[0;34m\u001b[0m\u001b[0m\n\u001b[0m",
      "\u001b[0;31mTypeError\u001b[0m: can only concatenate str (not \"list\") to str"
     ]
    }
   ],
   "source": [
    "# важно: склеивать можно только списки со списками\n",
    "# ['Кассандра'] + ['Амелия', 'Розамунда']\n",
    "# если выберем girls[2], мы будем склеивать строку\n",
    "# со списком, что выльется в ошибку\n",
    "# 'Кассандра' + ['Амелия', 'Розамунда']\n",
    "\n",
    "print(girls[2] + girls[4:6])"
   ]
  },
  {
   "cell_type": "markdown",
   "metadata": {},
   "source": [
    "### Задача 4\n",
    "\n",
    "Напишите программу, которая запрашивает с клавиатуры два целых числа через пробел (назовём их $a$ и $b$) и выводит на экран перечень целых чисел от $a$ до $b$ включительно.\n",
    "\n",
    "**Пример работы программы**\n",
    "\n",
    "Ввод:\n",
    "\n",
    "    2 7\n",
    "\n",
    "Вывод:\n",
    "\n",
    "    2 3 4 5 6 7"
   ]
  },
  {
   "cell_type": "code",
   "execution_count": 9,
   "metadata": {},
   "outputs": [
    {
     "name": "stdout",
     "output_type": "stream",
     "text": [
      "2 7\n",
      "2 3 4 5 6 7\n"
     ]
    }
   ],
   "source": [
    "inp = input().split()\n",
    "a = int(inp[0])\n",
    "b = int(inp[1])\n",
    "L = list(range(a, b + 1)) \n",
    "\n",
    "# чтобы получить строку из чисел с пробелами,\n",
    "# нужно превратить эти числа в строки,\n",
    "# создаем новый список из строк L_str\n",
    "\n",
    "L_str = []\n",
    "for i in L:\n",
    "    L_str.append(str(i)) \n",
    "    \n",
    "# все склеиваем в одну строку\n",
    "print(\" \".join(L_str))"
   ]
  },
  {
   "cell_type": "code",
   "execution_count": 10,
   "metadata": {},
   "outputs": [
    {
     "name": "stdout",
     "output_type": "stream",
     "text": [
      "2 7\n",
      "2 3 4 5 6 7\n"
     ]
    }
   ],
   "source": [
    "# компактно\n",
    "# со списковым включением\n",
    "\n",
    "a, b = input().split()\n",
    "L_str = [str(i) for i in range(int(a), int(b) + 1)]\n",
    "print(\" \".join(L_str))"
   ]
  },
  {
   "cell_type": "markdown",
   "metadata": {},
   "source": [
    "### Задача 5\n",
    "\n",
    "Напишите программу, которая запрашивает с клавиатуры целое число $n$ и выводит на экран сумму квадратов чисел от 1 до $n$ включительно.\n",
    "\n",
    "Решите эту задачу:\n",
    "\n",
    "* в предположении, что создавать список и считать сумму его элементов можно;\n",
    "\n",
    "* в предположении, что создавать списки нельзя."
   ]
  },
  {
   "cell_type": "code",
   "execution_count": 11,
   "metadata": {},
   "outputs": [
    {
     "name": "stdout",
     "output_type": "stream",
     "text": [
      "5\n",
      "55\n"
     ]
    }
   ],
   "source": [
    "# со списками\n",
    "\n",
    "n = int(input())\n",
    "squares = []\n",
    "for i in range(1, n + 1):\n",
    "    squares.append(i ** 2)\n",
    "print(sum(squares)) "
   ]
  },
  {
   "cell_type": "code",
   "execution_count": 13,
   "metadata": {},
   "outputs": [
    {
     "name": "stdout",
     "output_type": "stream",
     "text": [
      "5\n",
      "55\n"
     ]
    }
   ],
   "source": [
    "# без списков\n",
    "# S += i ** 2 равносильно S = S + i ** 2 \n",
    "\n",
    "n = int(input())\n",
    "S = 0\n",
    "for i in range(1, n + 1):\n",
    "    S += i ** 2 \n",
    "print(S)"
   ]
  },
  {
   "cell_type": "markdown",
   "metadata": {},
   "source": [
    "### Задача 6\n",
    "\n",
    "API ВКонтакте (интерфейс, который включает в себя базу данных, к которой можно отправить запрос и выгрузить доступные данные о пользователях/сообществах/постах) разрешает за один раз выгрузить не более 100 постов со стены пользователя или сообщества (параметр `count`). \n",
    "\n",
    "Однако возможность выгрузить более 100 постов есть – в запросе нужно указать параметр сдвига `offset`, который позволит начинать выгрузку не с начала, а с определённого места. Так, если `offset` равен 0, выкачиваться будут посты с 0 по 100, если `offset` равен 100, выкачиваться будут посты с 100 по 200, если `offset` равен 200, посты с 200 по 300, и так далее.\n",
    "\n",
    "Число постов на стене сообщества сохранено в переменной `nposts`, текстовый шаблон для запроса – в переменной `req`, число постов для выгрузки за один раз – в переменной `count`, параметр сдвига – в переменной `offset`."
   ]
  },
  {
   "cell_type": "code",
   "execution_count": 14,
   "metadata": {},
   "outputs": [
    {
     "name": "stdout",
     "output_type": "stream",
     "text": [
      "https://api.vk.com/method/wall.get?access_token=123&v=5.131&domain=hseteachers&count=100&offset=0\n"
     ]
    }
   ],
   "source": [
    "nposts = 1467\n",
    "count = 100\n",
    "offset = 0\n",
    "\n",
    "# wall.get, метод для выгрузки постов со стены\n",
    "# access_token=123, условный токен доступа, обычно он длинный\n",
    "# v=5.131, версия API\n",
    "# domain=hseteachers, сообщество Цитатник ВШЭ\n",
    "\n",
    "# \\ позволяет развивать текст на несколько строк\n",
    "# для удобства, не добавляяя лишние переносы и пробелы\n",
    "\n",
    "req = f\"https://api.vk.com/method/wall.get?access_token=123\\\n",
    "&v=5.131&domain=hseteachers&count={count}&offset={offset}\"\n",
    "\n",
    "print(req)"
   ]
  },
  {
   "cell_type": "markdown",
   "metadata": {},
   "source": [
    "Допишите код ниже таким образом, чтобы он выводил на экран подходящие запросы столько раз, сколько необходимо для выгрузки всех постов."
   ]
  },
  {
   "cell_type": "code",
   "execution_count": 15,
   "metadata": {},
   "outputs": [
    {
     "name": "stdout",
     "output_type": "stream",
     "text": [
      "https://api.vk.com/method/wall.get?access_token=123&v=5.131&domain=hseteachers&count=100&offset=0\n",
      "https://api.vk.com/method/wall.get?access_token=123&v=5.131&domain=hseteachers&count=100&offset=100\n",
      "https://api.vk.com/method/wall.get?access_token=123&v=5.131&domain=hseteachers&count=100&offset=200\n",
      "https://api.vk.com/method/wall.get?access_token=123&v=5.131&domain=hseteachers&count=100&offset=300\n",
      "https://api.vk.com/method/wall.get?access_token=123&v=5.131&domain=hseteachers&count=100&offset=400\n",
      "https://api.vk.com/method/wall.get?access_token=123&v=5.131&domain=hseteachers&count=100&offset=500\n",
      "https://api.vk.com/method/wall.get?access_token=123&v=5.131&domain=hseteachers&count=100&offset=600\n",
      "https://api.vk.com/method/wall.get?access_token=123&v=5.131&domain=hseteachers&count=100&offset=700\n",
      "https://api.vk.com/method/wall.get?access_token=123&v=5.131&domain=hseteachers&count=100&offset=800\n",
      "https://api.vk.com/method/wall.get?access_token=123&v=5.131&domain=hseteachers&count=100&offset=900\n",
      "https://api.vk.com/method/wall.get?access_token=123&v=5.131&domain=hseteachers&count=100&offset=1000\n",
      "https://api.vk.com/method/wall.get?access_token=123&v=5.131&domain=hseteachers&count=100&offset=1100\n",
      "https://api.vk.com/method/wall.get?access_token=123&v=5.131&domain=hseteachers&count=100&offset=1200\n",
      "https://api.vk.com/method/wall.get?access_token=123&v=5.131&domain=hseteachers&count=100&offset=1300\n",
      "https://api.vk.com/method/wall.get?access_token=123&v=5.131&domain=hseteachers&count=100&offset=1400\n"
     ]
    }
   ],
   "source": [
    "nposts = 1467\n",
    "count = 100\n",
    "offset = 0\n",
    "\n",
    "repeat = 1467 // 100 + 1\n",
    "\n",
    "for i in range(repeat):\n",
    "    req = f\"https://api.vk.com/method/wall.get?access_token=123&v=5.131&domain=hseteachers&count={count}&offset={offset}\"\n",
    "    offset = offset + 100\n",
    "    print(req)"
   ]
  },
  {
   "cell_type": "markdown",
   "metadata": {},
   "source": [
    "### Задача 7\n",
    "\n",
    "Даны два списка с частями адресов:"
   ]
  },
  {
   "cell_type": "code",
   "execution_count": 16,
   "metadata": {},
   "outputs": [],
   "source": [
    "part01 = [\"Москва\", \"Санкт-Петербург\", \"Пермь\", \"Нижний Новгород\"]\n",
    "part02 = [\"Мясницкая улица, дом 20\", \n",
    "          \"Кантемировская улица дом 3, корп.1, лит. А\", \n",
    "          \"Студенческая улица, дом 38\", \n",
    "          \"Большая Печерская улица, дом 25/12\"]"
   ]
  },
  {
   "cell_type": "markdown",
   "metadata": {},
   "source": [
    "Напишите программу, которая сохраняет в список `full` полные адреса, то есть адреса, где части из `part01` и `part02` склеены с помощью запятой и пробела, например, \n",
    "так:\n",
    "\n",
    "    Москва, Мясницкая улица, 20"
   ]
  },
  {
   "cell_type": "code",
   "execution_count": 17,
   "metadata": {},
   "outputs": [
    {
     "name": "stdout",
     "output_type": "stream",
     "text": [
      "['Москва, Мясницкая улица, дом 20', 'Санкт-Петербург, Кантемировская улица дом 3, корп.1, лит. А', 'Пермь, Студенческая улица, дом 38', 'Нижний Новгород, Большая Печерская улица, дом 25/12']\n"
     ]
    }
   ],
   "source": [
    "# нас интересуют элементы на одинаковых местах \n",
    "# в двух списках -> будем двигаться по их индексам,\n",
    "# то есть по range от 0 до длины списка\n",
    "# range(len(part01)) = [0, 1, 2, 3]\n",
    "\n",
    "full = []\n",
    "for i in range(len(part01)):\n",
    "    a = \", \".join([part01[i], part02[i]])\n",
    "    full.append(a)\n",
    "print(full)"
   ]
  },
  {
   "cell_type": "code",
   "execution_count": 18,
   "metadata": {},
   "outputs": [
    {
     "data": {
      "text/plain": [
       "[('Москва', 'Мясницкая улица, дом 20'),\n",
       " ('Санкт-Петербург', 'Кантемировская улица дом 3, корп.1, лит. А'),\n",
       " ('Пермь', 'Студенческая улица, дом 38'),\n",
       " ('Нижний Новгород', 'Большая Печерская улица, дом 25/12')]"
      ]
     },
     "execution_count": 18,
     "metadata": {},
     "output_type": "execute_result"
    }
   ],
   "source": [
    "# лучше сделать то же самое без перебора индексов \n",
    "# функция zip() поможет создать пары элементов\n",
    "# результат похож на список кортежей\n",
    "\n",
    "list(zip(part01, part02))"
   ]
  },
  {
   "cell_type": "code",
   "execution_count": 19,
   "metadata": {},
   "outputs": [
    {
     "name": "stdout",
     "output_type": "stream",
     "text": [
      "['Москва, Мясницкая улица, дом 20', 'Санкт-Петербург, Кантемировская улица дом 3, корп.1, лит. А', 'Пермь, Студенческая улица, дом 38', 'Нижний Новгород, Большая Печерская улица, дом 25/12']\n"
     ]
    }
   ],
   "source": [
    "# Python умеет делать перебор по парам значений в zip()\n",
    "# p1 – первый элемент в каждой паре (город)\n",
    "# p2 – второй элемент в каждой паре (улица с домом)\n",
    "\n",
    "full = []\n",
    "for p1, p2 in zip(part01, part02):\n",
    "    a = \", \".join([p1, p2])\n",
    "    full.append(a)\n",
    "print(full)"
   ]
  },
  {
   "cell_type": "markdown",
   "metadata": {},
   "source": [
    "### Задача 8\n",
    "\n",
    "В списке `valid` сохранено число действительных бюллетеней на 5 избирательных участках, а в списке`invalid` – число недействительных бюллетеней на тех же участках. Также известно общее число избирателей на каждом участке, значения сохранены в списке `total`. Используя имеющиеся списки, вычислите явку (в процентах) на каждом избирательном участке и выведите на экран с новой строки полученные значения, округлённые до второго знака после запятой.\n",
    "\n",
    "Решите эту задачу:\n",
    "\n",
    "* без использования `zip()`;\n",
    "* с использованием `zip()`;\n",
    "* с использованием массивов.\n",
    "\n",
    "*Напоминание.* Явка на каждом участке определяется как сумма действительных и недействительных бюллетеней, делённая на общее число зарегистированных избирателей (не забудьте перевести полученную долю в проценты).\n",
    "\n",
    "**Пример работы программы**\n",
    "\n",
    "На выходе:\n",
    "\n",
    "    51.11\n",
    "    96.02\n",
    "    60.83\n",
    "    88.76\n",
    "    46.52"
   ]
  },
  {
   "cell_type": "code",
   "execution_count": 20,
   "metadata": {},
   "outputs": [],
   "source": [
    "valid = [450, 787, 630, 740, 950]\n",
    "invalid = [10, 202, 100, 50, 120]\n",
    "total = [900, 1030, 1200, 890, 2300]"
   ]
  },
  {
   "cell_type": "code",
   "execution_count": 21,
   "metadata": {},
   "outputs": [
    {
     "name": "stdout",
     "output_type": "stream",
     "text": [
      "51.11\n",
      "96.02\n",
      "60.83\n",
      "88.76\n",
      "46.52\n"
     ]
    }
   ],
   "source": [
    "# без zip()\n",
    "# берем элементы с одинаковым индексом \n",
    "# из valid, invalid, total и считаем явку\n",
    "\n",
    "for i in range(len(valid)):\n",
    "    turnout_perc = (valid[i] + invalid[i]) / total[i] * 100\n",
    "    print(round(turnout_perc, 2))"
   ]
  },
  {
   "cell_type": "code",
   "execution_count": 22,
   "metadata": {},
   "outputs": [
    {
     "data": {
      "text/plain": [
       "[(450, 10, 900),\n",
       " (787, 202, 1030),\n",
       " (630, 100, 1200),\n",
       " (740, 50, 890),\n",
       " (950, 120, 2300)]"
      ]
     },
     "execution_count": 22,
     "metadata": {},
     "output_type": "execute_result"
    }
   ],
   "source": [
    "# как выглядит zip() для трех списков\n",
    "\n",
    "list(zip(valid, invalid, total))"
   ]
  },
  {
   "cell_type": "code",
   "execution_count": 23,
   "metadata": {},
   "outputs": [
    {
     "name": "stdout",
     "output_type": "stream",
     "text": [
      "51.11\n",
      "96.02\n",
      "60.83\n",
      "88.76\n",
      "46.52\n"
     ]
    }
   ],
   "source": [
    "# с zip()\n",
    "# v - первый элемент каждой «тройки» выше\n",
    "# i – второй элемент каждой «тройки» выше\n",
    "# t – третий элемент каждой «тройки» выше\n",
    "\n",
    "for v, i, t in zip(valid, invalid, total):\n",
    "    turnout_perc = (v + i) / t * 100\n",
    "    print(round(turnout_perc, 2))"
   ]
  },
  {
   "cell_type": "code",
   "execution_count": 24,
   "metadata": {},
   "outputs": [
    {
     "name": "stdout",
     "output_type": "stream",
     "text": [
      "51.11\n",
      "96.02\n",
      "60.83\n",
      "88.76\n",
      "46.52\n"
     ]
    }
   ],
   "source": [
    "# с массивами все еще проще, с массивами можно работать поэлементно\n",
    "# np.round() умеет округлять каждый элемент массива / списка\n",
    "# обычный round() работает только с числами\n",
    "\n",
    "import numpy as np\n",
    "\n",
    "Valid = np.array(valid)\n",
    "Invalid = np.array(invalid)\n",
    "Total = np.array(total)\n",
    "\n",
    "Turnout = np.round((Valid + Invalid) / Total * 100, 2)\n",
    "\n",
    "for t in Turnout:\n",
    "    print(t)"
   ]
  }
 ],
 "metadata": {
  "kernelspec": {
   "display_name": "Python 3",
   "language": "python",
   "name": "python3"
  },
  "language_info": {
   "codemirror_mode": {
    "name": "ipython",
    "version": 3
   },
   "file_extension": ".py",
   "mimetype": "text/x-python",
   "name": "python",
   "nbconvert_exporter": "python",
   "pygments_lexer": "ipython3",
   "version": "3.7.4"
  }
 },
 "nbformat": 4,
 "nbformat_minor": 2
}
