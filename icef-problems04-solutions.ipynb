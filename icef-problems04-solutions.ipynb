{
 "cells": [
  {
   "cell_type": "markdown",
   "metadata": {},
   "source": [
    "# Python для сбора и анализа данных\n",
    "\n",
    "*Алла Тамбовцева, НИУ ВШЭ*\n",
    "\n",
    "## Практикум 4: условные конструкции и цикл `while`"
   ]
  },
  {
   "cell_type": "markdown",
   "metadata": {},
   "source": [
    "### Задача 1\n",
    "\n",
    "Напишите программу, которая просит пользователя ввести положительное число, и если пользователь вводит положительное число, выводит на экран сообщение \"Молодец!\", если нет – \"Ошибка!\". Считайте, что пользователь в любом случае вводит числа (целые или дробные), а не какой-то текст."
   ]
  },
  {
   "cell_type": "code",
   "execution_count": 1,
   "metadata": {},
   "outputs": [
    {
     "name": "stdout",
     "output_type": "stream",
     "text": [
      "-6.5\n",
      "Ошибка!\n"
     ]
    }
   ],
   "source": [
    "n = float(input())\n",
    "if n > 0:\n",
    "    print(\"Молодец!\")\n",
    "else:\n",
    "    print(\"Ошибка!\")"
   ]
  },
  {
   "cell_type": "markdown",
   "metadata": {},
   "source": [
    "### Задача 2\n",
    "\n",
    "У питона есть набор любимых чисел.\n",
    "\n",
    "    favorites = [3, 7, 11, 23, 18, 48, 81]\n",
    "\n",
    "Напишите программу, которая просит пользователя ввести целое число, и если оно нравится питону, на экран будет выводиться сообщение: \"Мое любимое число!\", если нет ‒ \"Эх, ну почему?\"."
   ]
  },
  {
   "cell_type": "code",
   "execution_count": 2,
   "metadata": {},
   "outputs": [
    {
     "name": "stdout",
     "output_type": "stream",
     "text": [
      "48\n",
      "Мое любимое число!\n"
     ]
    }
   ],
   "source": [
    "# просто – с оператором in\n",
    "\n",
    "favorites = [3, 7, 11, 23, 18, 48, 81]\n",
    "num = int(input())\n",
    "if num in favorites:\n",
    "    print(\"Мое любимое число!\")\n",
    "else:\n",
    "    print(\"Эх, ну почему?\") "
   ]
  },
  {
   "cell_type": "code",
   "execution_count": 3,
   "metadata": {},
   "outputs": [
    {
     "name": "stdout",
     "output_type": "stream",
     "text": [
      "8\n",
      "Эх, ну почему?\n"
     ]
    }
   ],
   "source": [
    "# сложно – если бы не было in\n",
    "\n",
    "favorites = [3, 7, 11, 23, 18, 48, 81]\n",
    "num = int(input())\n",
    "\n",
    "# i: 0 – если число в списке не встретилось\n",
    "# i: 1 – если число встретилось\n",
    "\n",
    "i = 0\n",
    "for f in favorites:\n",
    "    if f == num:\n",
    "        print(\"Мое любимое число!\")\n",
    "        i += 1\n",
    "        break\n",
    "if i == 0:\n",
    "    print(\"Эх, ну почему?\")"
   ]
  },
  {
   "cell_type": "markdown",
   "metadata": {},
   "source": [
    "### Задача 3\n",
    "\n",
    "В файле `ducks.txt` хранятся цитаты героев \"Утиных историй\" с указанием автора цитаты (одна строка в файле – цитата и имя героя, разделенные табуляцией).\n",
    "\n",
    "Глобальная задача: написать игру-угадайку, где пользователю на экран последовательно выводятся цитаты и в ответ на каждую цитату предлагается ввести с клавиатуры имя соответствующего героя.\n",
    "\n",
    "Для простоты давайте считать, что набор имен ограничен, пользователь должен вводить имена героев из следующего списка: Скрудж, Зигзаг, Клювдия.\n",
    "\n",
    "Пошаговый алгоритм решения:\n",
    "\n",
    "1. Считать строки из файла и сохранить их в список `lines`.\n",
    "\n",
    "2. Перебрать строки в списке `lines`, разбить каждую по символу табуляции, результаты сохранить в виде кортежей с парами (цитата, герой) в список `results`.\n",
    "\n",
    "3. Создать переменную score, равную нулю. Для каждой пары из `results` вывести на экран цитату (первый элемент пары), запросить ответ, и если он совпадает с автором цитаты (вторым элементом пары), добавить к `score` 1 балл. В конце вывести общий набранный балл в следующем формате:\n",
    "\n",
    "        Ваш результат: [score]/7."
   ]
  },
  {
   "cell_type": "code",
   "execution_count": 5,
   "metadata": {},
   "outputs": [],
   "source": [
    "# открываем файл и считываем строки\n",
    "# .strip() удаляет \\n в конце\n",
    "\n",
    "f = open(\"ducks.txt\", encoding = \"utf-8\")\n",
    "lines = f.readlines()\n",
    "lines = [line.strip() for line in lines] "
   ]
  },
  {
   "cell_type": "code",
   "execution_count": 6,
   "metadata": {},
   "outputs": [],
   "source": [
    "# разбиваем по символу табуляции \\t\n",
    "# .split() возвращает список, конвертируем его в кортеж (tuple)\n",
    "\n",
    "results = []\n",
    "for line in lines:\n",
    "    r = tuple(line.split(\"\\t\"))\n",
    "    results.append(r)"
   ]
  },
  {
   "cell_type": "code",
   "execution_count": 7,
   "metadata": {},
   "outputs": [
    {
     "data": {
      "text/plain": [
       "[('Были бы крылья, разбиться сумеем!', 'Зигзаг'),\n",
       " ('Не волнуйтесь, ребята, все мечтают, чтобы я потерялся, но я всегда возвращаюсь!',\n",
       "  'Зигзаг'),\n",
       " ('На моей кухне я привидений не потерплю!', 'Клювдия'),\n",
       " ('ГРАБИТЕЛИ! ВОРЫ! ПОЛИТИКИ!', 'Скрудж'),\n",
       " ('Катастрофа, которую можно избежать — приятная катастрофа.', 'Зигзаг'),\n",
       " ('Если авария неизбежна, то пусть она будет хотя бы красивой.', 'Скрудж'),\n",
       " ('Что лучше: богатый селезень или мертвый?', 'Клювдия')]"
      ]
     },
     "execution_count": 7,
     "metadata": {},
     "output_type": "execute_result"
    }
   ],
   "source": [
    "results"
   ]
  },
  {
   "cell_type": "code",
   "execution_count": 8,
   "metadata": {},
   "outputs": [
    {
     "name": "stdout",
     "output_type": "stream",
     "text": [
      "Были бы крылья, разбиться сумеем!\n",
      "Зигзаг\n",
      "Не волнуйтесь, ребята, все мечтают, чтобы я потерялся, но я всегда возвращаюсь!\n",
      "Зигзаг\n",
      "На моей кухне я привидений не потерплю!\n",
      "Клювдия\n",
      "ГРАБИТЕЛИ! ВОРЫ! ПОЛИТИКИ!\n",
      "Скрудж\n",
      "Катастрофа, которую можно избежать — приятная катастрофа.\n",
      "Скрудж\n",
      "Если авария неизбежна, то пусть она будет хотя бы красивой.\n",
      "Зигзаг\n",
      "Что лучше: богатый селезень или мертвый?\n",
      "Зигзаг\n",
      "Ваш результат: 4/7.\n"
     ]
    }
   ],
   "source": [
    "# вариант 1: пробегаемся по парам pair\n",
    "# печатаем первый элемент pair[0]\n",
    "# сравниваем ввод ответа со вторым элементом pair[1]\n",
    "\n",
    "score = 0\n",
    "for pair in results:\n",
    "    print(pair[0])\n",
    "    guess = input()\n",
    "    if guess == pair[1]:\n",
    "        score += 1\n",
    "print(f\"Ваш результат: {score}/7.\")"
   ]
  },
  {
   "cell_type": "code",
   "execution_count": 9,
   "metadata": {},
   "outputs": [
    {
     "name": "stdout",
     "output_type": "stream",
     "text": [
      "Были бы крылья, разбиться сумеем!\n",
      "\n",
      "Не волнуйтесь, ребята, все мечтают, чтобы я потерялся, но я всегда возвращаюсь!\n",
      "\n",
      "На моей кухне я привидений не потерплю!\n",
      "\n",
      "ГРАБИТЕЛИ! ВОРЫ! ПОЛИТИКИ!\n",
      "Скрудж\n",
      "Катастрофа, которую можно избежать — приятная катастрофа.\n",
      "Зигзаг\n",
      "Если авария неизбежна, то пусть она будет хотя бы красивой.\n",
      "\n",
      "Что лучше: богатый селезень или мертвый?\n",
      "Клювдия\n",
      "Ваш результат: 3/7.\n"
     ]
    }
   ],
   "source": [
    "# вариант 2: пробегаемся по парам и сразу называем \n",
    "# первый элемент quote, второй – hero\n",
    "\n",
    "score = 0\n",
    "for quote, hero in results:\n",
    "    print(quote)\n",
    "    guess = input()\n",
    "    if guess == hero:\n",
    "        score += 1\n",
    "print(f\"Ваш результат: {score}/7.\")"
   ]
  },
  {
   "cell_type": "code",
   "execution_count": 10,
   "metadata": {},
   "outputs": [
    {
     "data": {
      "text/plain": [
       "(0, 1)"
      ]
     },
     "execution_count": 10,
     "metadata": {},
     "output_type": "execute_result"
    }
   ],
   "source": [
    "# почему Python понимает нашу запись с quote, hero?\n",
    "# множественное присваивание!\n",
    "# когда мы пишем что-то через запятую, он объединяет это в кортеж\n",
    "\n",
    "0, 1"
   ]
  },
  {
   "cell_type": "code",
   "execution_count": 11,
   "metadata": {},
   "outputs": [
    {
     "name": "stdout",
     "output_type": "stream",
     "text": [
      "0 1\n"
     ]
    }
   ],
   "source": [
    "# а так он сохранит 0 в a, 1 – в b\n",
    "# вот и в quote, hero то же самое\n",
    "\n",
    "a, b = 0, 1\n",
    "print(a, b)"
   ]
  },
  {
   "cell_type": "markdown",
   "metadata": {},
   "source": [
    "### Задача 4\n",
    "\n",
    "Напишите программу, которая запрашивает с клавиатуры какое-то одно слово и выводит на экран строку \"Это имя собственное\", если слово начинается с заглавной буквы, а остальные буквы строчные, и строку \"Наверное, это не имя собственное\" в обратном случае. Строки с сообщениями сохранены в переменных `true` и `false`."
   ]
  },
  {
   "cell_type": "code",
   "execution_count": 12,
   "metadata": {},
   "outputs": [
    {
     "name": "stdout",
     "output_type": "stream",
     "text": [
      "кот\n",
      "Наверное, это не имя собственное\n"
     ]
    }
   ],
   "source": [
    "true = \"Это имя собственное\"\n",
    "false = \"Наверное, это не имя собственное\"\n",
    "\n",
    "# вариант 1: проверяем, что первая буква заглавная\n",
    "# а последующие – строчные (одновременные условия)\n",
    "\n",
    "word = input()\n",
    "if word[0].isupper() and word[1:].islower():\n",
    "    print(true)\n",
    "else:\n",
    "    print(false)"
   ]
  },
  {
   "cell_type": "code",
   "execution_count": 13,
   "metadata": {},
   "outputs": [
    {
     "name": "stdout",
     "output_type": "stream",
     "text": [
      "Бегемот\n",
      "Это имя собственное\n"
     ]
    }
   ],
   "source": [
    "# вариант 2: ровно то же самое, но с готовым методом .title()\n",
    "\n",
    "word = input()\n",
    "if word.istitle():\n",
    "    print(true)\n",
    "else:\n",
    "    print(false)"
   ]
  },
  {
   "cell_type": "markdown",
   "metadata": {},
   "source": [
    "### Задача 5\n",
    "\n",
    "В списке `files` сохранены названия файлов с разными расширениями. Напишите программу, которая сохранит в список `docs` только файлы с расширением `.doc` или `.docx`. Элементы в списке `docs` должны быть отсортированы по алфавиту."
   ]
  },
  {
   "cell_type": "code",
   "execution_count": 14,
   "metadata": {},
   "outputs": [
    {
     "name": "stdout",
     "output_type": "stream",
     "text": [
      "['mydoc.docx', 'review.doc', 'Заявление(копия).docx', 'Заявление.docx', 'Сценарий.doc']\n"
     ]
    }
   ],
   "source": [
    "files = [\"review.doc\", \"main.html\", \"mydoc.docx\", \"dreams-data.csv\", \"intro.R\", \n",
    "         \"hw01.tex\", \"Заявление.docx\", \"Заявление(копия).docx\", \"Расписание.xlsx\", \"Сценарий.doc\"]\n",
    "\n",
    "docs = []\n",
    "for file in files:\n",
    "    if file.endswith(\".doc\") or file.endswith(\".docx\"):\n",
    "        docs.append(file)\n",
    "docs.sort()\n",
    "print(docs)"
   ]
  },
  {
   "cell_type": "markdown",
   "metadata": {},
   "source": [
    "### Задача 6\n",
    "\n",
    "*(Из банка заданий независимого экзамена по Python, базовый уровень)*\n",
    "\n",
    "Реализуйте следующую программу:\n",
    "\n",
    "* Вводится целое положительное число N1, затем с новой строки вводится целое положительное число N2 (этот код уже написан). \n",
    "* Гарантируется, что N2 больше N1. \n",
    "* Нужно вывести квадраты всех четных чисел от N1 до N2 включительно, каждое число на новой строке."
   ]
  },
  {
   "cell_type": "code",
   "execution_count": 15,
   "metadata": {},
   "outputs": [
    {
     "name": "stdout",
     "output_type": "stream",
     "text": [
      "2\n",
      "12\n",
      "4\n",
      "16\n",
      "36\n",
      "64\n",
      "100\n",
      "144\n"
     ]
    }
   ],
   "source": [
    "N1 = int(input())\n",
    "N2 = int(input())\n",
    "\n",
    "for x in range(N1, N2 + 1):\n",
    "    if x % 2 == 0:\n",
    "        print(x ** 2) "
   ]
  },
  {
   "cell_type": "markdown",
   "metadata": {},
   "source": [
    "### Задача 7\n",
    "\n",
    "В списке `marks` сохранены имена и оценки студентов в шкале от 0 до 10. Напишите программу, которая запрашивает с клавиатуры целое число от 0 до 10 и сохраняет в список `upper` имена студентов из списка, чьи оценки не менее введенного значения. "
   ]
  },
  {
   "cell_type": "code",
   "execution_count": 16,
   "metadata": {},
   "outputs": [
    {
     "name": "stdout",
     "output_type": "stream",
     "text": [
      "8\n",
      "['Harry', 'Tim', 'Cassandra', 'Violetta']\n"
     ]
    }
   ],
   "source": [
    "marks = [(\"Harry\", 8), (\"Tim\", 9), (\"Berta\", 6), (\"Sue\", 7), (\"Tom\", 3),\n",
    "         (\"Cassandra\", 10), (\"Sam\", 5), (\"George\", 4), (\"Violetta\", 8)]\n",
    "value = int(input())\n",
    "\n",
    "# name, grade – как в задаче 3\n",
    "\n",
    "upper = []\n",
    "for name, grade in marks:\n",
    "    if grade >= value:\n",
    "        upper.append(name) \n",
    "print(upper)"
   ]
  },
  {
   "cell_type": "markdown",
   "metadata": {},
   "source": [
    "### Задача 8\n",
    "\n",
    "*(Из банка заданий независимого экзамена по Python, базовый уровень)*\n",
    "\n",
    "Считываются два списка — `names` и `languages` — и строка `info`. Этот код уже написан.\n",
    "\n",
    "* Список `names` содержит имена студентов (строки). Список `languages` cодержит названия иностранных языков (строки). Количество элементов в списках совпадает — каждый введенный язык из списка `languages` соответствует студенту из списка `names`.\n",
    "* Строка `info` содержит название иностранного языка.\n",
    "* Напишите программу, которая сохранит в новый список имена только тех студентов из списка `names`, которые говорят на введенном языке (`info`). Имена добавляются в порядке их появления.\n",
    "* В конце программа должна напечатать получившийся список. Получившийся список может быть пустым."
   ]
  },
  {
   "cell_type": "code",
   "execution_count": 17,
   "metadata": {},
   "outputs": [
    {
     "name": "stdout",
     "output_type": "stream",
     "text": [
      "A B C D E\n",
      "ru en fr en en\n",
      "en\n"
     ]
    }
   ],
   "source": [
    "names = input().split()\n",
    "languages = input().split()\n",
    "info = input()"
   ]
  },
  {
   "cell_type": "code",
   "execution_count": 18,
   "metadata": {},
   "outputs": [
    {
     "name": "stdout",
     "output_type": "stream",
     "text": [
      "['B', 'D', 'E']\n"
     ]
    }
   ],
   "source": [
    "# по аналогии с предыдущей задачей,\n",
    "# склеиваем списки поэлементно с zip()\n",
    "\n",
    "chosen = []\n",
    "for name, lang in zip(names, languages):\n",
    "    if lang == info:\n",
    "        chosen.append(name)\n",
    "print(chosen) "
   ]
  },
  {
   "cell_type": "code",
   "execution_count": 19,
   "metadata": {},
   "outputs": [
    {
     "data": {
      "text/plain": [
       "[('A', 'ru'), ('B', 'en'), ('C', 'fr'), ('D', 'en'), ('E', 'en')]"
      ]
     },
     "execution_count": 19,
     "metadata": {},
     "output_type": "execute_result"
    }
   ],
   "source": [
    "# как выглядит результат zip() изнутри\n",
    "\n",
    "list(zip(names, languages))"
   ]
  },
  {
   "cell_type": "markdown",
   "metadata": {},
   "source": [
    "### Задача 9\n",
    "\n",
    "*(Из банка заданий независимого экзамена по Python, базовый уровень)*\n",
    "\n",
    "Напишите программу, которая запрашивает у пользователя ввод числа до тех пор, пока он не введет число 10. \n",
    "\n",
    "* Если введено любое число, кроме 10, программа выводит следующую строку: \"Ошибка. Введите число 10\". \n",
    "* Как только введено число 10, программа выводит строку \"Все работает!\".\n",
    "* Нужный для вывода текст мы сохранили в переменные `error` и `ok`."
   ]
  },
  {
   "cell_type": "code",
   "execution_count": 20,
   "metadata": {},
   "outputs": [
    {
     "name": "stdout",
     "output_type": "stream",
     "text": [
      "12\n",
      "Ошибка. Введите число 10\n",
      "3\n",
      "Ошибка. Введите число 10\n",
      "4\n",
      "Ошибка. Введите число 10\n",
      "10\n",
      "Все работает!\n"
     ]
    }
   ],
   "source": [
    "# классический while: выполняй код пока верно условие answer != 10\n",
    "\n",
    "error = \"Ошибка. Введите число 10\"\n",
    "ok = \"Все работает!\"\n",
    "\n",
    "answer = int(input())\n",
    "while answer != 10:\n",
    "    print(error)\n",
    "    answer = int(input())\n",
    "print(ok)"
   ]
  },
  {
   "cell_type": "code",
   "execution_count": 21,
   "metadata": {},
   "outputs": [
    {
     "name": "stdout",
     "output_type": "stream",
     "text": [
      "0\n",
      "Ошибка. Введите число 10\n",
      "8\n",
      "Ошибка. Введите число 10\n",
      "10\n",
      "Все работает!\n"
     ]
    }
   ],
   "source": [
    "# while True: выполняй код пока не встретишь break явно\n",
    "\n",
    "while True:\n",
    "    answer = int(input())\n",
    "    if answer == 10:\n",
    "        break\n",
    "    else:\n",
    "        print(error)\n",
    "print(ok)"
   ]
  },
  {
   "cell_type": "markdown",
   "metadata": {},
   "source": [
    "### Задача 10\n",
    "\n",
    "Напишите программу, которая запрашивает у пользователя пароль, и далее:\n",
    "\n",
    "* если пароль верный, выводит на экран сообщение \"Login success\".\n",
    "* если пароль неверный, выводит на экран сообщение \"Incorrect password, try again!\" до тех пор, пока пользователь не введет верный пароль.\n",
    "\n",
    "Считайте, что верный пароль сохранен в строке `password`."
   ]
  },
  {
   "cell_type": "code",
   "execution_count": 22,
   "metadata": {},
   "outputs": [
    {
     "name": "stdout",
     "output_type": "stream",
     "text": [
      "pass\n",
      "Incorrect password, try again!\n",
      "hse\n",
      "Incorrect password, try again!\n",
      "hsepassord\n",
      "Incorrect password, try again!\n",
      "hsepassword\n",
      "Login success\n"
     ]
    }
   ],
   "source": [
    "# классический while: выполняй код пока верно условие\n",
    "\n",
    "password = \"hsepassword\"\n",
    "guess = input()\n",
    "while guess != password:\n",
    "    print(\"Incorrect password, try again!\")\n",
    "    guess = input()\n",
    "print(\"Login success\")"
   ]
  },
  {
   "cell_type": "code",
   "execution_count": 23,
   "metadata": {},
   "outputs": [
    {
     "name": "stdout",
     "output_type": "stream",
     "text": [
      "hse\n",
      "Incorrect password, try again!\n",
      "hsepass\n",
      "Incorrect password, try again!\n",
      "hsepassword\n",
      "Login success\n"
     ]
    }
   ],
   "source": [
    "# while True: выполняй код пока не встретишь break явно\n",
    "\n",
    "password = \"hsepassword\"\n",
    "while True:\n",
    "    guess = input()\n",
    "    if guess == password:\n",
    "        print(\"Login success\")\n",
    "        break\n",
    "    else:\n",
    "        print(\"Incorrect password, try again!\")"
   ]
  }
 ],
 "metadata": {
  "kernelspec": {
   "display_name": "Python 3 (ipykernel)",
   "language": "python",
   "name": "python3"
  },
  "language_info": {
   "codemirror_mode": {
    "name": "ipython",
    "version": 3
   },
   "file_extension": ".py",
   "mimetype": "text/x-python",
   "name": "python",
   "nbconvert_exporter": "python",
   "pygments_lexer": "ipython3",
   "version": "3.9.7"
  }
 },
 "nbformat": 4,
 "nbformat_minor": 2
}
